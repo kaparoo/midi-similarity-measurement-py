{
 "cells": [
  {
   "cell_type": "code",
   "execution_count": null,
   "metadata": {},
   "outputs": [],
   "source": [
    "import matplotlib.pyplot as plt\n",
    "from matplotlib import animation\n",
    "from numpy import random"
   ]
  },
  {
   "cell_type": "code",
   "execution_count": null,
   "metadata": {},
   "outputs": [],
   "source": [
    "import matplotlib.pyplot as plt\n",
    "from matplotlib import animation\n",
    "from numpy import random \n",
    "\n",
    "fig = plt.figure()\n",
    "ax1 = plt.axes(xlim=(-108, -104), ylim=(31,34))\n",
    "line, = ax1.plot([], [], lw=2)\n",
    "plt.xlabel('Longitude')\n",
    "plt.ylabel('Latitude')\n",
    "\n",
    "plotlays, plotcols = [2], [\"black\",\"red\"]\n",
    "lines = []\n",
    "for index in range(2):\n",
    "    lobj = ax1.plot([],[],lw=2,color=plotcols[index])[0]\n",
    "    lines.append(lobj)\n",
    "\n",
    "\n",
    "def init():\n",
    "    for line in lines:\n",
    "        line.set_data([],[])\n",
    "    return lines\n",
    "\n",
    "x1,y1 = [],[]\n",
    "x2,y2 = [],[]\n",
    "\n",
    "# fake data\n",
    "frame_num = 100\n",
    "gps_data = [-104 - (4 * random.rand(2, frame_num)), 31 + (3 * random.rand(2, frame_num))]\n",
    "\n",
    "\n",
    "def animate(i):\n",
    "\n",
    "    x = gps_data[0][0, i]\n",
    "    y = gps_data[1][0, i]\n",
    "    x1.append(x)\n",
    "    y1.append(y)\n",
    "\n",
    "    x = gps_data[0][1,i]\n",
    "    y = gps_data[1][1,i]\n",
    "    x2.append(x)\n",
    "    y2.append(y)\n",
    "\n",
    "    xlist = [x1, x2]\n",
    "    ylist = [y1, y2]\n",
    "\n",
    "    #for index in range(0,1):\n",
    "    for lnum,line in enumerate(lines):\n",
    "        line.set_data(xlist[lnum], ylist[lnum]) # set data for each line separately. \n",
    "\n",
    "    return lines\n",
    "\n",
    "# call the animator.  blit=True means only re-draw the parts that have changed.\n",
    "anim = animation.FuncAnimation(fig, animate, init_func=init,\n",
    "                               frames=frame_num, interval=10, blit=True)\n",
    "\n",
    "\n",
    "plt.show()"
   ]
  }
 ],
 "metadata": {
  "language_info": {
   "name": "python"
  },
  "orig_nbformat": 4
 },
 "nbformat": 4,
 "nbformat_minor": 2
}
