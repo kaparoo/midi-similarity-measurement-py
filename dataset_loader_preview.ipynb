{
 "cells": [
  {
   "cell_type": "code",
   "execution_count": null,
   "metadata": {},
   "outputs": [],
   "source": [
    "import algorithm\n",
    "import dataset_loader\n",
    "import matplotlib.pyplot as plt\n",
    "from midi import MIDIUnitSequence\n",
    "from midi import MIDIUnitSequenceList\n",
    "from midi import NUM_MIDI_KEYS\n",
    "import numpy as np\n",
    "\n",
    "from tqdm import tqdm"
   ]
  },
  {
   "cell_type": "code",
   "execution_count": null,
   "metadata": {},
   "outputs": [],
   "source": [
    "ROOT_PATH=\"../../sabana/dataset/asap-dataset\"\n",
    "# ROOT_PATH = \"../dataset/newbie-dataset\""
   ]
  },
  {
   "cell_type": "code",
   "execution_count": null,
   "metadata": {},
   "outputs": [],
   "source": [
    "SLICE_DURATION = 5 # sec\n",
    "EXPANSION_RATE = 2.0\n",
    "FRAME_PER_SECOND = 20 # Hz\n",
    "NUM_SAMPLES = 1\n",
    "QUEUE_SIZE = 8\n",
    "ONSET_WEIGHT = 10.0\n",
    "SETTLE_FRAME = 10\n",
    "COMPENSATION_FRAME = 0"
   ]
  },
  {
   "cell_type": "code",
   "execution_count": null,
   "metadata": {},
   "outputs": [],
   "source": [
    "def plot_matrix(name, matrix, head=None, tail=None):\n",
    "    plt.figure(\"name\", figsize=(16, 3))\n",
    "    plt.imshow(matrix, cmap=\"gray\", aspect=\"auto\", origin=\"lower\", interpolation=\"nearest\")\n",
    "    if head:\n",
    "        plt.plot([head, head], [0, 128])\n",
    "    if tail:\n",
    "        plt.plot([tail, tail], [0, 128])\n",
    "    plt.title(name)\n",
    "    plt.ylabel(\"%d Pitches\" % matrix.shape[0])\n",
    "    plt.xlabel(\"%d Spectrogram Frames\" % matrix.shape[1])\n",
    "    plt.show()\n",
    "\n",
    "def process_decay(midi_matrix):\n",
    "    midi_matrix = np.reshape(midi_matrix, [NUM_MIDI_KEYS, -1]).T\n",
    "    geo_ratio = (0.1)**(1/SETTLE_FRAME)\n",
    "    for frame_idx in range(len(midi_matrix)):\n",
    "        for midi_key in range(NUM_MIDI_KEYS):\n",
    "            if midi_matrix[frame_idx, midi_key] <= 0:\n",
    "                continue\n",
    "            elif frame_idx > 0:\n",
    "                prev_velocity = midi_matrix[frame_idx - 1, midi_key]\n",
    "                if prev_velocity > 0:\n",
    "                    velocity = prev_velocity * geo_ratio\n",
    "                else:\n",
    "                    velocity = ONSET_WEIGHT\n",
    "            else:\n",
    "                velocity = ONSET_WEIGHT\n",
    "            midi_matrix[frame_idx, midi_key] = velocity"
   ]
  },
  {
   "cell_type": "code",
   "execution_count": null,
   "metadata": {},
   "outputs": [],
   "source": [
    "gen = dataset_loader.spawn(dataset_root=ROOT_PATH, slice_duration=SLICE_DURATION, expansion_rate=EXPANSION_RATE, shuffle=True)\n",
    "\n",
    "prev_perfs = [None] * QUEUE_SIZE\n",
    "for idx in tqdm(range(NUM_SAMPLES)):\n",
    "    score, perf, (head, tail) = gen.__next__()\n",
    "\n",
    "    process_decay(score)\n",
    "    process_decay(perf)\n",
    "\n",
    "    plot_matrix(\"score\", score)\n",
    "    plot_matrix(\"performance\", perf, head, tail)\n",
    "    \n",
    "    if isinstance(prev_perfs[0], np.ndarray):\n",
    "        prev_perf = prev_perfs[0]\n",
    "        plot_matrix(\"score\", score)\n",
    "        plot_matrix(\"previous performance\", prev_perf)\n",
    "        \n",
    "    prev_perfs.pop(0)\n",
    "    prev_perfs.append(perf)"
   ]
  }
 ],
 "metadata": {
  "interpreter": {
   "hash": "cfd304c9e3d173a2324dccab15d5fe1f7d7b2b6f5a0f8d21822afd9702dde63d"
  },
  "kernelspec": {
   "display_name": "Python 3.6.13 64-bit ('alignment': conda)",
   "name": "python3"
  },
  "language_info": {
   "codemirror_mode": {
    "name": "ipython",
    "version": 3
   },
   "file_extension": ".py",
   "mimetype": "text/x-python",
   "name": "python",
   "nbconvert_exporter": "python",
   "pygments_lexer": "ipython3",
   "version": "3.6.13"
  },
  "orig_nbformat": 4
 },
 "nbformat": 4,
 "nbformat_minor": 2
}
