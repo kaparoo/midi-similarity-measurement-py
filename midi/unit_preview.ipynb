{
 "cells": [
  {
   "cell_type": "code",
   "execution_count": 1,
   "metadata": {},
   "outputs": [],
   "source": [
    "from constant import *\n",
    "from unit import *"
   ]
  },
  {
   "cell_type": "code",
   "execution_count": 2,
   "metadata": {},
   "outputs": [
    {
     "name": "stdout",
     "output_type": "stream",
     "text": [
      "NUM_MIDI_KEYS=128(0 ~ 127)\n",
      "NUM_PITCH_CLASSES=12\n"
     ]
    }
   ],
   "source": [
    "print(f\"{NUM_MIDI_KEYS=}({MIN_MIDI_KEY} ~ {MAX_MIDI_KEY})\")\n",
    "print(f\"{NUM_PITCH_CLASSES=}\")"
   ]
  },
  {
   "cell_type": "code",
   "execution_count": 3,
   "metadata": {},
   "outputs": [
    {
     "name": "stdout",
     "output_type": "stream",
     "text": [
      "Note(1, 12.30) True\n",
      "Rest False\n"
     ]
    }
   ],
   "source": [
    "# correct case\n",
    "note1 = MIDIUnit.new_note(1, 12.3)\n",
    "note2 = MIDIUnit.new_note(10, 1.23)\n",
    "note3 = MIDIUnit.new_note(100, 123)\n",
    "\n",
    "print(note1, note1.is_note())        # Note(1, 12.30), True\n",
    "print(MIDIRest, MIDIRest.is_note())  # Rest, False"
   ]
  },
  {
   "cell_type": "code",
   "execution_count": 4,
   "metadata": {},
   "outputs": [
    {
     "ename": "ValueError",
     "evalue": "(midi_key=1, velocity=-12.30)",
     "output_type": "error",
     "traceback": [
      "\u001b[1;31m---------------------------------------------------------------------------\u001b[0m",
      "\u001b[1;31mValueError\u001b[0m                                Traceback (most recent call last)",
      "\u001b[1;32m~\\AppData\\Local\\Temp/ipykernel_2272/2096631088.py\u001b[0m in \u001b[0;36m<module>\u001b[1;34m\u001b[0m\n\u001b[0;32m      1\u001b[0m \u001b[1;31m# error\u001b[0m\u001b[1;33m\u001b[0m\u001b[1;33m\u001b[0m\u001b[1;33m\u001b[0m\u001b[0m\n\u001b[1;32m----> 2\u001b[1;33m \u001b[0merror\u001b[0m \u001b[1;33m=\u001b[0m \u001b[0mMIDIUnit\u001b[0m\u001b[1;33m.\u001b[0m\u001b[0mnew_note\u001b[0m\u001b[1;33m(\u001b[0m\u001b[1;36m1\u001b[0m\u001b[1;33m,\u001b[0m \u001b[1;33m-\u001b[0m\u001b[1;36m12.3\u001b[0m\u001b[1;33m)\u001b[0m  \u001b[1;31m# throw ValueError\u001b[0m\u001b[1;33m\u001b[0m\u001b[1;33m\u001b[0m\u001b[0m\n\u001b[0m",
      "\u001b[1;32md:\\git\\midi-similarity-measurement-py\\midi\\unit.py\u001b[0m in \u001b[0;36mnew_note\u001b[1;34m(midi_key, velocity)\u001b[0m\n\u001b[0;32m     28\u001b[0m     \u001b[1;32mdef\u001b[0m \u001b[0mnew_note\u001b[0m\u001b[1;33m(\u001b[0m\u001b[0mmidi_key\u001b[0m\u001b[1;33m:\u001b[0m \u001b[0mint\u001b[0m\u001b[1;33m,\u001b[0m \u001b[0mvelocity\u001b[0m\u001b[1;33m:\u001b[0m \u001b[0mfloat\u001b[0m\u001b[1;33m)\u001b[0m \u001b[1;33m->\u001b[0m \u001b[1;34m\"MIDIUnit\"\u001b[0m\u001b[1;33m:\u001b[0m\u001b[1;33m\u001b[0m\u001b[1;33m\u001b[0m\u001b[0m\n\u001b[0;32m     29\u001b[0m         \u001b[1;32mif\u001b[0m \u001b[1;32mnot\u001b[0m \u001b[1;33m(\u001b[0m\u001b[0mMAX_MIDI_KEY\u001b[0m \u001b[1;33m>=\u001b[0m \u001b[0mmidi_key\u001b[0m \u001b[1;33m>=\u001b[0m \u001b[0mMIN_MIDI_KEY\u001b[0m \u001b[1;32mand\u001b[0m \u001b[0mvelocity\u001b[0m \u001b[1;33m>\u001b[0m \u001b[1;36m0\u001b[0m\u001b[1;33m)\u001b[0m\u001b[1;33m:\u001b[0m\u001b[1;33m\u001b[0m\u001b[1;33m\u001b[0m\u001b[0m\n\u001b[1;32m---> 30\u001b[1;33m             \u001b[1;32mraise\u001b[0m \u001b[0mValueError\u001b[0m\u001b[1;33m(\u001b[0m\u001b[1;34mf\"({midi_key=:d}, {velocity=:.2f})\"\u001b[0m\u001b[1;33m)\u001b[0m\u001b[1;33m\u001b[0m\u001b[1;33m\u001b[0m\u001b[0m\n\u001b[0m\u001b[0;32m     31\u001b[0m         \u001b[1;32mreturn\u001b[0m \u001b[0mMIDIUnit\u001b[0m\u001b[1;33m(\u001b[0m\u001b[0mmidi_key\u001b[0m\u001b[1;33m,\u001b[0m \u001b[0mvelocity\u001b[0m\u001b[1;33m)\u001b[0m\u001b[1;33m\u001b[0m\u001b[1;33m\u001b[0m\u001b[0m\n\u001b[0;32m     32\u001b[0m \u001b[1;33m\u001b[0m\u001b[0m\n",
      "\u001b[1;31mValueError\u001b[0m: (midi_key=1, velocity=-12.30)"
     ]
    }
   ],
   "source": [
    "# error\n",
    "error = MIDIUnit.new_note(1, -12.3)  # throw ValueError"
   ]
  },
  {
   "cell_type": "code",
   "execution_count": 5,
   "metadata": {},
   "outputs": [
    {
     "name": "stdout",
     "output_type": "stream",
     "text": [
      "[Note(1, 12.30), Note(10, 1.23), Note(100, 123.00)]\n"
     ]
    }
   ],
   "source": [
    "sequence1 = MIDIUnitSequence()\n",
    "sequence1.append(note1)\n",
    "sequence1.append(note2)\n",
    "sequence1.append(note3)\n",
    "\n",
    "sequence2 = MIDIUnitSequence()\n",
    "sequence2.append(MIDIRest)\n",
    "\n",
    "sequence3 = MIDIUnitSequence()\n",
    "sequence3.append(note3)\n",
    "sequence3.append(note2)\n",
    "sequence3.append(note1)\n",
    "\n",
    "print(sequence1)  # [Note(1, 12.30), Note(10, 1.23), Note(100, 123.00)]"
   ]
  },
  {
   "cell_type": "code",
   "execution_count": 6,
   "metadata": {},
   "outputs": [
    {
     "name": "stdout",
     "output_type": "stream",
     "text": [
      "[[Note(1, 12.30), Note(10, 1.23), Note(100, 123.00)], [Rest], [Note(100, 123.00), Note(10, 1.23), Note(1, 12.30)]]\n",
      "[[Rest], [Note(100, 123.00), Note(10, 1.23), Note(1, 12.30)]]\n"
     ]
    }
   ],
   "source": [
    "sequence_list = MIDIUnitSequenceList()\n",
    "sequence_list.append(sequence1)\n",
    "sequence_list.append(sequence2)\n",
    "sequence_list.append(sequence3)\n",
    "\n",
    "# [[Note(1, 12.30), Note(10, 1.23), Note(100, 123.00)], [Rest], [Note(1, 12.30), Note(10, 1.23), Note(100, 123.00)]]\n",
    "print(sequence_list)\n",
    "\n",
    "#  [[Rest], [Note(1, 12.30), Note(10, 1.23), Note(100, 123.00)]]\n",
    "print(sequence_list[1:])"
   ]
  },
  {
   "cell_type": "code",
   "execution_count": 8,
   "metadata": {},
   "outputs": [
    {
     "data": {
      "image/png": "[encoded data removed]",
      "text/plain": [
       "<Figure size 432x288 with 1 Axes>"
      ]
     },
     "metadata": {
      "needs_background": "light"
     },
     "output_type": "display_data"
    }
   ],
   "source": [
    "midi_matrix = sequence_list.to_midi_matrix(use_velocity=True)\n",
    "\n",
    "import matplotlib.pyplot as plt\n",
    "plt.imshow(midi_matrix, cmap=\"gray\", aspect=\"auto\", origin=\"lower\", interpolation=\"nearest\")\n",
    "plt.ylabel(\"MIDI Key\")\n",
    "plt.xlabel(\"Frame\")\n",
    "plt.show()"
   ]
  },
  {
   "cell_type": "code",
   "execution_count": 9,
   "metadata": {},
   "outputs": [
    {
     "name": "stdout",
     "output_type": "stream",
     "text": [
      "[[Note(1, 12.30), Note(10, 1.23), Note(100, 123.00)], [Rest], [Note(1, 12.30), Note(10, 1.23), Note(100, 123.00)]]\n"
     ]
    }
   ],
   "source": [
    "new_sequence_list = MIDIUnitSequenceList.from_midi_matrix(midi_matrix)\n",
    "print(new_sequence_list)"
   ]
  },
  {
   "cell_type": "code",
   "execution_count": 10,
   "metadata": {},
   "outputs": [
    {
     "name": "stdout",
     "output_type": "stream",
     "text": [
      "[0.         0.0900901  0.         0.         0.9009009  0.\n",
      " 0.         0.         0.         0.         0.00900901 0.        ]\n"
     ]
    }
   ],
   "source": [
    "pitch_histogram = sequence_list.pitch_histogram\n",
    "print(pitch_histogram)"
   ]
  },
  {
   "cell_type": "code",
   "execution_count": 13,
   "metadata": {},
   "outputs": [
    {
     "name": "stdout",
     "output_type": "stream",
     "text": [
      "[Note(100, 123.00), Rest, Note(100, 123.00)]\n"
     ]
    }
   ],
   "source": [
    "sequence = sequence_list.repr_unit_sequence\n",
    "print(sequence)"
   ]
  }
 ],
 "metadata": {
  "interpreter": {
   "hash": "61ae02ee63d492e5d0bc817a61fc444bb41ceb6091d6f384c2d1a09da7a921e3"
  },
  "kernelspec": {
   "display_name": "Python 3.8.10 64-bit ('.venv': venv)",
   "language": "python",
   "name": "python3"
  },
  "language_info": {
   "codemirror_mode": {
    "name": "ipython",
    "version": 3
   },
   "file_extension": ".py",
   "mimetype": "text/x-python",
   "name": "python",
   "nbconvert_exporter": "python",
   "pygments_lexer": "ipython3",
   "version": "3.8.10"
  },
  "orig_nbformat": 4
 },
 "nbformat": 4,
 "nbformat_minor": 2
}
