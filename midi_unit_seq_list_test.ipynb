{
 "cells": [
  {
   "cell_type": "code",
   "execution_count": null,
   "metadata": {},
   "outputs": [],
   "source": [
    "import dataset_loader\n",
    "import matplotlib.pyplot as plt\n",
    "import midi\n",
    "import numpy as np\n",
    "import similarity"
   ]
  },
  {
   "cell_type": "code",
   "execution_count": null,
   "metadata": {},
   "outputs": [],
   "source": [
    "DATASET_ROOT=\"../../sabana/dataset/asap-dataset\"\n",
    "\n",
    "SLICE_DURATION = 5 # sec\n",
    "EXPANSION_RATE = 1.5\n",
    "FRAME_PER_SECOND = 20 # Hz\n",
    "NUM_SAMPLES = 1\n",
    "SETTLING_FRAME = 8\n",
    "COMPENSATION_FRAME = 0"
   ]
  },
  {
   "cell_type": "code",
   "execution_count": null,
   "metadata": {},
   "outputs": [],
   "source": [
    "def plot_midi_matrix(matrix: np.ndarray, title: str, head: int = None, tail: int = None):\n",
    "    plt.figure(figsize=(16, 3))\n",
    "    plt.title(title)\n",
    "    plt.imshow(matrix, cmap=\"gray\", aspect=\"auto\", origin=\"lower\", interpolation=\"nearest\")\n",
    "    if head:\n",
    "        plt.plot([head, head], [0, 128])\n",
    "    if tail:\n",
    "        plt.plot([tail, tail], [0, 128])\n",
    "    plt.ylabel(\"MIDI Key\")\n",
    "    plt.xlabel(\"Frame\")\n",
    "    plt.show()\n",
    "    plt.clf()\n",
    "    return None"
   ]
  },
  {
   "cell_type": "code",
   "execution_count": null,
   "metadata": {},
   "outputs": [],
   "source": [
    "def process_midi_matrix(midi_matrix: np.ndarray, settling_frame):\n",
    "    prev_pressed = [False] * midi.NUM_MIDI_KEYS\n",
    "    midi_matrix = np.reshape(midi_matrix.copy(), [midi.NUM_MIDI_KEYS, -1]).T\n",
    "    for frame_idx in range(len(midi_matrix)):\n",
    "        for midi_key in range(midi.NUM_MIDI_KEYS):\n",
    "            velocity = 0\n",
    "            if midi_matrix[frame_idx, midi_key] <= 0:\n",
    "                prev_pressed[midi_key] = False\n",
    "            elif frame_idx > 0:\n",
    "                prev_velocity = midi_matrix[frame_idx - 1, midi_key]\n",
    "                if prev_velocity > 0:\n",
    "                    velocity = prev_velocity - 1\n",
    "                elif not prev_pressed[midi_key]:\n",
    "                    velocity = settling_frame - 1\n",
    "                prev_pressed[midi_key] = True\n",
    "            else:\n",
    "                velocity = settling_frame - 1\n",
    "                prev_pressed[midi_key] = True\n",
    "            midi_matrix[frame_idx, midi_key] = velocity\n",
    "    return midi_matrix"
   ]
  },
  {
   "cell_type": "code",
   "execution_count": null,
   "metadata": {},
   "outputs": [],
   "source": [
    "gen = dataset_loader.spawn(dataset_root=DATASET_ROOT, \n",
    "                           slice_duration=SLICE_DURATION,\n",
    "                           expansion_rate=EXPANSION_RATE,\n",
    "                           frame_per_second=FRAME_PER_SECOND,\n",
    "                           shuffle=True)"
   ]
  },
  {
   "cell_type": "code",
   "execution_count": null,
   "metadata": {},
   "outputs": [],
   "source": [
    "# for i in range(100):\n",
    "#     print(\"=============================================================\")\n",
    "#     score, perf, (head, tail) = gen.__next__()\n",
    "#     plot_midi_matrix(score, \"score\")\n",
    "#     plot_midi_matrix(perf, \"perf\", head, tail)\n",
    "\n",
    "#     score_ = process_midi_matrix(score, SETTLING_FRAME).T\n",
    "#     plot_midi_matrix(score_, \"score\")\n",
    "#     perf_ = process_midi_matrix(perf, SETTLING_FRAME).T\n",
    "#     plot_midi_matrix(perf_, \"perf\", head, tail)"
   ]
  },
  {
   "cell_type": "code",
   "execution_count": null,
   "metadata": {},
   "outputs": [],
   "source": [
    "score, perf, (original_head, original_tail) = next(gen)"
   ]
  },
  {
   "cell_type": "code",
   "execution_count": null,
   "metadata": {},
   "outputs": [],
   "source": [
    "plot_midi_matrix(score, \"score\")\n",
    "plot_midi_matrix(perf, \"perf\", original_head, original_tail)"
   ]
  },
  {
   "cell_type": "code",
   "execution_count": null,
   "metadata": {},
   "outputs": [],
   "source": [
    "processed_score = process_midi_matrix(score, SETTLING_FRAME).T\n",
    "processed_perf = process_midi_matrix(perf, SETTLING_FRAME).T"
   ]
  },
  {
   "cell_type": "code",
   "execution_count": null,
   "metadata": {},
   "outputs": [],
   "source": [
    "score_unit_seq_list = midi.MIDIUnitSequenceList.from_midi_matrix(score,SETTLING_FRAME)\n",
    "perf_unit_seq_list = midi.MIDIUnitSequenceList.from_midi_matrix(perf, SETTLING_FRAME)\n",
    "score_sequence = score_unit_seq_list.to_representative_unit_sequence()\n",
    "perf_sequence = perf_unit_seq_list.to_representative_unit_sequence()"
   ]
  },
  {
   "cell_type": "code",
   "execution_count": null,
   "metadata": {},
   "outputs": [],
   "source": [
    "cost, (predicted_head, predicted_tail), (warping_path, accumulated_cost_matrix, delta_functions) = similarity.algorithm.subsequence_matching(\n",
    "    score_sequence, perf_sequence\n",
    ")"
   ]
  },
  {
   "cell_type": "code",
   "execution_count": null,
   "metadata": {},
   "outputs": [],
   "source": [
    "original_subsequence_len = original_tail - original_head\n",
    "predicted_subsequence_len = predicted_tail - predicted_head\n",
    "\n",
    "length_accuracy = predicted_subsequence_len / original_subsequence_len\n",
    "print(f\"Length accuracy: {length_accuracy: .2f}\")"
   ]
  },
  {
   "cell_type": "code",
   "execution_count": null,
   "metadata": {},
   "outputs": [],
   "source": [
    "plot_midi_matrix(score, \"score\")\n",
    "plot_midi_matrix(perf, \"perf\", original_head, original_tail)"
   ]
  },
  {
   "cell_type": "code",
   "execution_count": null,
   "metadata": {},
   "outputs": [],
   "source": [
    "plt.figure(figsize=(16, 3))\n",
    "plt.title(\"Score\")\n",
    "plt.imshow(score, cmap=\"gray\", aspect=\"auto\", origin=\"lower\", interpolation=\"nearest\")\n",
    "plt.ylabel(\"MIDI Key\")\n",
    "plt.xlabel(\"Frame\")\n",
    "plt.show()\n",
    "plt.clf()\n",
    "\n",
    "plt.figure(figsize=(16, 3))\n",
    "plt.title(f\"Performance (expansion rate: {EXPANSION_RATE}, settling frame: {SETTLING_FRAME})\")\n",
    "plt.imshow(perf, cmap=\"gray\", aspect=\"auto\", origin=\"lower\", interpolation=\"nearest\")\n",
    "plt.ylim(midi.MIN_MIDI_KEY, midi.MAX_MIDI_KEY)\n",
    "plt.ylabel(\"MIDI Key\")\n",
    "plt.xlabel(\"Frame\")\n",
    "plt.plot([original_head, original_head], [0, 128], label=\"Original head\")\n",
    "plt.plot([original_tail, original_tail], [0, 128], label=\"Original tail\")\n",
    "plt.plot([predicted_head, predicted_head], [0, 128], label=\"Predicted head\")\n",
    "plt.plot([predicted_tail, predicted_tail], [0, 128], label=\"Predicted tail\")\n",
    "plt.legend()\n",
    "plt.show()\n",
    "plt.clf()"
   ]
  },
  {
   "cell_type": "code",
   "execution_count": null,
   "metadata": {},
   "outputs": [],
   "source": [
    "ylim = [0, score.shape[-1] -1]\n",
    "warping_path_ = np.array([(i, j) for (i, j) in warping_path])\n",
    "\n",
    "plt.figure(figsize=(16, 9))\n",
    "plt.title(f\"Accumulated Cost Matrix (expansion rate: {EXPANSION_RATE}, settling frame: {SETTLING_FRAME})\")\n",
    "plt.imshow(accumulated_cost_matrix, cmap=\"gray\", aspect=\"auto\", origin=\"lower\", interpolation=\"nearest\")\n",
    "plt.plot([original_head, original_head], ylim, \"b\", label=\"Original head\")\n",
    "plt.plot([original_tail, original_tail], ylim, \"y\", label=\"Original tail\")\n",
    "plt.plot([predicted_head, predicted_head], ylim, \"g\", label=\"Predicted head\")\n",
    "plt.plot([predicted_tail, predicted_tail], ylim, \"r\", label=\"Predicted tail\")\n",
    "plt.plot(warping_path_[:, 1], warping_path_[:, 0], 'w', label=\"Subsequence warping path\")\n",
    "plt.ylabel(\"Score\")\n",
    "plt.xlabel(\"Performance\")\n",
    "plt.ylim(ylim)\n",
    "plt.legend()\n",
    "plt.show()\n",
    "plt.clf()"
   ]
  },
  {
   "cell_type": "code",
   "execution_count": null,
   "metadata": {},
   "outputs": [],
   "source": [
    "plt.figure(figsize=(16, 9))\n",
    "plt.title(f\"Delta Functions (expansion rate: {EXPANSION_RATE}, settling frame: {SETTLING_FRAME})\")\n",
    "plt.plot(np.arange(len(delta_functions)),delta_functions)\n",
    "plt.plot(original_tail, delta_functions[original_tail], 'yo', label=\"Original tail\")\n",
    "plt.plot(predicted_tail, delta_functions[predicted_tail], 'ro', label=\"Predicted tail\")\n",
    "plt.legend()\n",
    "plt.show()\n",
    "plt.clf()"
   ]
  },
  {
   "cell_type": "code",
   "execution_count": null,
   "metadata": {},
   "outputs": [],
   "source": [
    "decayed_pitch_histogram = score_unit_seq_list.to_pitch_histogram(with_decay=True)\n",
    "print(decayed_pitch_histogram)"
   ]
  },
  {
   "cell_type": "code",
   "execution_count": null,
   "metadata": {},
   "outputs": [],
   "source": [
    "not_decayed_pitch_histogram = score_unit_seq_list.to_pitch_histogram(with_decay=False)\n",
    "print(not_decayed_pitch_histogram)"
   ]
  }
 ],
 "metadata": {
  "interpreter": {
   "hash": "6b941a73e39ad5b6d75c9de32d8349d9c37685575ffd58a15534490e6472e926"
  },
  "kernelspec": {
   "display_name": "Python 3.6.13 64-bit ('tensorflow23_py36': conda)",
   "language": "python",
   "name": "python3"
  },
  "language_info": {
   "codemirror_mode": {
    "name": "ipython",
    "version": 3
   },
   "file_extension": ".py",
   "mimetype": "text/x-python",
   "name": "python",
   "nbconvert_exporter": "python",
   "pygments_lexer": "ipython3",
   "version": "3.6.13"
  },
  "orig_nbformat": 4
 },
 "nbformat": 4,
 "nbformat_minor": 2
}
