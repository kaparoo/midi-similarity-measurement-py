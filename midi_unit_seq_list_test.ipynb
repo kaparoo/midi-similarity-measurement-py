{
 "cells": [
  {
   "cell_type": "code",
   "execution_count": null,
   "metadata": {},
   "outputs": [],
   "source": [
    "import dataset_loader\n",
    "import matplotlib.pyplot as plt\n",
    "import midi\n",
    "import numpy as np\n",
    "import similarity"
   ]
  },
  {
   "cell_type": "code",
   "execution_count": null,
   "metadata": {},
   "outputs": [],
   "source": [
    "DATASET_ROOT=\"../../sabana/dataset/asap-dataset\"\n",
    "\n",
    "SLICE_DURATION = 5 # sec\n",
    "EXPANSION_RATE = 1.5\n",
    "FRAME_PER_SECOND = 20 # Hz\n",
    "NUM_SAMPLES = 1\n",
    "SETTLING_FRAME = 8\n",
    "COMPENSATION_FRAME = 0"
   ]
  },
  {
   "cell_type": "code",
   "execution_count": null,
   "metadata": {},
   "outputs": [],
   "source": [
    "gen = dataset_loader.spawn(dataset_root=DATASET_ROOT, \n",
    "                           slice_duration=SLICE_DURATION,\n",
    "                           expansion_rate=EXPANSION_RATE,\n",
    "                           frame_per_second=FRAME_PER_SECOND,\n",
    "                           shuffle=True)"
   ]
  },
  {
   "cell_type": "code",
   "execution_count": null,
   "metadata": {},
   "outputs": [],
   "source": [
    "score, perf, (head, tail) = gen.__next__()"
   ]
  },
  {
   "cell_type": "code",
   "execution_count": null,
   "metadata": {},
   "outputs": [],
   "source": [
    "def plot_midi_matrix(matrix: np.ndarray, title: str, head: int = None, tail: int = None):\n",
    "    plt.figure(figsize=(16, 3))\n",
    "    plt.title(title)\n",
    "    plt.imshow(matrix, cmap=\"gray\", aspect=\"auto\", origin=\"lower\", interpolation=\"nearest\")\n",
    "    if head:\n",
    "        plt.plot([head, head], [0, 128])\n",
    "    if tail:\n",
    "        plt.plot([tail, tail], [0, 128])\n",
    "    plt.ylabel(\"MIDI Key\")\n",
    "    plt.xlabel(\"Frame\")\n",
    "    plt.show()\n",
    "    plt.clf()\n",
    "    return None"
   ]
  },
  {
   "cell_type": "code",
   "execution_count": null,
   "metadata": {},
   "outputs": [],
   "source": [
    "def process_midi_matrix(midi_matrix, settling_frame):\n",
    "    prev_pressed = [False] * midi.NUM_MIDI_KEYS\n",
    "    midi_matrix = np.reshape(midi_matrix, [midi.NUM_MIDI_KEYS, -1]).T\n",
    "    for frame_idx in range(len(midi_matrix)):\n",
    "        for midi_key in range(midi.NUM_MIDI_KEYS):\n",
    "            velocity = 0\n",
    "            if midi_matrix[frame_idx, midi_key] <= 0:\n",
    "                prev_pressed[midi_key] = False\n",
    "            elif frame_idx > 0:\n",
    "                prev_velocity = midi_matrix[frame_idx - 1, midi_key]\n",
    "                if prev_velocity > 0:\n",
    "                    velocity = prev_velocity - 1\n",
    "                elif not prev_pressed[midi_key]:\n",
    "                    velocity = settling_frame - 1\n",
    "                prev_pressed[midi_key] = True\n",
    "            else:\n",
    "                velocity = settling_frame - 1\n",
    "                prev_pressed[midi_key] = True\n",
    "            midi_matrix[frame_idx, midi_key] = velocity\n",
    "    return midi_matrix"
   ]
  },
  {
   "cell_type": "code",
   "execution_count": null,
   "metadata": {},
   "outputs": [],
   "source": [
    "score, perf, (head, tail) = gen.__next__()"
   ]
  },
  {
   "cell_type": "code",
   "execution_count": null,
   "metadata": {},
   "outputs": [],
   "source": [
    "plot_midi_matrix(score, \"score\")\n",
    "score_ = process_midi_matrix(score, SETTLING_FRAME).T\n",
    "plot_midi_matrix(score_, \"score\")\n",
    "\n",
    "plot_midi_matrix(perf, \"perf\")\n",
    "perf_ = process_midi_matrix(perf, SETTLING_FRAME).T\n",
    "plot_midi_matrix(perf_, \"perf\")"
   ]
  },
  {
   "cell_type": "code",
   "execution_count": null,
   "metadata": {},
   "outputs": [],
   "source": [
    "for i in range(100):\n",
    "    print(\"=============================================================\")\n",
    "    score, perf, (head, tail) = gen.__next__()\n",
    "    plot_midi_matrix(score, \"score\")\n",
    "    plot_midi_matrix(perf, \"perf\", head, tail)\n",
    "\n",
    "    score_ = process_midi_matrix(score, SETTLING_FRAME).T\n",
    "    plot_midi_matrix(score_, \"score\")\n",
    "    perf_ = process_midi_matrix(perf, SETTLING_FRAME).T\n",
    "    plot_midi_matrix(perf_, \"perf\", head, tail)"
   ]
  },
  {
   "cell_type": "code",
   "execution_count": null,
   "metadata": {},
   "outputs": [],
   "source": [
    "score__ = midi.MIDIUnitSequenceList.from_midi_matrix(score,SETTLING_FRAME)\n",
    "perf__ = midi.MIDIUnitSequenceList.from_midi_matrix(perf,SETTLING_FRAME)"
   ]
  },
  {
   "cell_type": "code",
   "execution_count": null,
   "metadata": {},
   "outputs": [],
   "source": [
    "score_sequence = score__.to_representative_unit_sequence()\n",
    "perf_sequence = perf__.to_representative_unit_sequence()"
   ]
  },
  {
   "cell_type": "code",
   "execution_count": null,
   "metadata": {},
   "outputs": [],
   "source": [
    "plot_midi_matrix(score_, \"perf\")\n",
    "print(score__)\n",
    "print()\n",
    "print(score_sequence)"
   ]
  },
  {
   "cell_type": "code",
   "execution_count": null,
   "metadata": {},
   "outputs": [],
   "source": [
    "plot_midi_matrix(perf_, \"perf\")\n",
    "print(perf__)\n",
    "print()\n",
    "print(perf_sequence)"
   ]
  }
 ],
 "metadata": {
  "interpreter": {
   "hash": "6b941a73e39ad5b6d75c9de32d8349d9c37685575ffd58a15534490e6472e926"
  },
  "kernelspec": {
   "display_name": "Python 3.6.13 64-bit ('tensorflow23_py36': conda)",
   "language": "python",
   "name": "python3"
  },
  "language_info": {
   "codemirror_mode": {
    "name": "ipython",
    "version": 3
   },
   "file_extension": ".py",
   "mimetype": "text/x-python",
   "name": "python",
   "nbconvert_exporter": "python",
   "pygments_lexer": "ipython3",
   "version": "3.6.13"
  },
  "orig_nbformat": 4
 },
 "nbformat": 4,
 "nbformat_minor": 2
}
