{
 "cells": [
  {
   "cell_type": "code",
   "execution_count": null,
   "metadata": {},
   "outputs": [],
   "source": [
    "import sys\n",
    "sys.path.append(\"..\")\n",
    "\n",
    "import dataset\n",
    "import util"
   ]
  },
  {
   "cell_type": "code",
   "execution_count": null,
   "metadata": {},
   "outputs": [],
   "source": [
    "generator = dataset.new_generator(root=\"../../dataset/newbie-dataset/\", mark_onset=True, shuffle=False)\n",
    "score, perf, (head, tail) = next(generator)\n",
    "util.plot_midi_matrices(score, perf, (head, tail))"
   ]
  },
  {
   "cell_type": "code",
   "execution_count": null,
   "metadata": {},
   "outputs": [],
   "source": [
    "generator = dataset.new_generator(root=\"../../dataset/newbie-dataset/\", slice_duration=(3.0, 5.0), expansion_rate=(1.1, 2.5), shuffle=True, verbose=True)\n",
    "for idx, ((_, _, _), (perf_path, slice_duration, expansion_rate)) in enumerate(generator):\n",
    "    print(f\"{idx} | {perf_path}, {slice_duration=}, {expansion_rate=}\")"
   ]
  },
  {
   "cell_type": "code",
   "execution_count": null,
   "metadata": {},
   "outputs": [],
   "source": [
    "generator = dataset.new_generator(root=\"../../dataset/asap-dataset/\", score_prefix=\"midi_score\", shuffle=True, verbose=True)\n",
    "for idx, ((_, _, _), (perf_path, slice_duration, expansion_rate)) in enumerate(generator):\n",
    "    if idx == 100:\n",
    "        break\n",
    "    print(f\"{idx} | {perf_path}, {slice_duration=:.2f}, {expansion_rate=:.2f}\")"
   ]
  }
 ],
 "metadata": {
  "interpreter": {
   "hash": "61ae02ee63d492e5d0bc817a61fc444bb41ceb6091d6f384c2d1a09da7a921e3"
  },
  "kernelspec": {
   "display_name": "Python 3.8.10 64-bit ('.venv': venv)",
   "language": "python",
   "name": "python3"
  },
  "language_info": {
   "codemirror_mode": {
    "name": "ipython",
    "version": 3
   },
   "file_extension": ".py",
   "mimetype": "text/x-python",
   "name": "python",
   "nbconvert_exporter": "python",
   "pygments_lexer": "ipython3",
   "version": "3.8.10"
  },
  "orig_nbformat": 4
 },
 "nbformat": 4,
 "nbformat_minor": 2
}
