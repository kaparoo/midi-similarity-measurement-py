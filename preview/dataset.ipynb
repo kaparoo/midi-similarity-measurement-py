{
 "cells": [
  {
   "cell_type": "code",
   "execution_count": null,
   "metadata": {},
   "outputs": [],
   "source": [
    "import sys\n",
    "sys.path.append(\"..\")\n",
    "\n",
    "import dataset\n",
    "import util"
   ]
  },
  {
   "cell_type": "code",
   "execution_count": null,
   "metadata": {},
   "outputs": [],
   "source": [
    "generator = dataset.new_generator(root=\"../../dataset/newbie-dataset/\", mark_onset=True, shuffle=False)\n",
    "score, perf, (head, tail) = next(generator)\n",
    "util.plot_midi_matrices(score, perf, (head, tail))"
   ]
  },
  {
   "cell_type": "code",
   "execution_count": null,
   "metadata": {},
   "outputs": [],
   "source": [
    "generator = dataset.new_generator(root=\"../../dataset/newbie-dataset/\", shuffle=True, verbose=True)\n",
    "for idx, (_, _, _, (perf_root, perf_file)) in enumerate(generator):\n",
    "    print(f\"{idx} | {perf_root/perf_file}\")"
   ]
  },
  {
   "cell_type": "code",
   "execution_count": null,
   "metadata": {},
   "outputs": [],
   "source": [
    "generator = dataset.new_generator(root=\"../../dataset/asap-dataset/\", score_prefix=\"midi_score\", shuffle=True, verbose=True)\n",
    "for idx, (_, _, _, (perf_root, perf_file)) in enumerate(generator):\n",
    "    print(f\"{idx} | {perf_root/perf_file}\")"
   ]
  }
 ],
 "metadata": {
  "interpreter": {
   "hash": "61ae02ee63d492e5d0bc817a61fc444bb41ceb6091d6f384c2d1a09da7a921e3"
  },
  "kernelspec": {
   "display_name": "Python 3.8.10 64-bit ('.venv': venv)",
   "language": "python",
   "name": "python3"
  },
  "language_info": {
   "codemirror_mode": {
    "name": "ipython",
    "version": 3
   },
   "file_extension": ".py",
   "mimetype": "text/x-python",
   "name": "python",
   "nbconvert_exporter": "python",
   "pygments_lexer": "ipython3",
   "version": "3.8.10"
  },
  "orig_nbformat": 4
 },
 "nbformat": 4,
 "nbformat_minor": 2
}
