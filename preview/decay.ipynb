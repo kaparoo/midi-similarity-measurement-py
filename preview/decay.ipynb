{
 "cells": [
  {
   "cell_type": "code",
   "execution_count": null,
   "metadata": {},
   "outputs": [],
   "source": [
    "import sys\n",
    "sys.path.append(\"..\")\n",
    "\n",
    "import dataset\n",
    "import midi_unit\n",
    "import numpy as np\n",
    "import util"
   ]
  },
  {
   "cell_type": "code",
   "execution_count": null,
   "metadata": {},
   "outputs": [],
   "source": [
    "array = np.array([1, 1, 2, 1, 1, 0, 0, 0, 2, 1, 1, 1, 0, 2, 1, 1, 0, 1, 0, 2])\n",
    "print(array)"
   ]
  },
  {
   "cell_type": "code",
   "execution_count": null,
   "metadata": {},
   "outputs": [],
   "source": [
    "settling_frame = 5\n",
    "without_decay = midi_unit.make_decay_fn(settling_frame=settling_frame)\n",
    "linear_decay = midi_unit.make_decay_fn(type=\"linear\", settling_frame=settling_frame)"
   ]
  },
  {
   "cell_type": "code",
   "execution_count": null,
   "metadata": {},
   "outputs": [],
   "source": [
    "print(array)                 # [1 1 2 1 1 0 0 0 2 1 1 1 0 2 1 1 0 1 0 2]\n",
    "print(without_decay(array))  # [1 1 2 1 1 0 0 0 2 1 1 1 0 2 1 1 0 1 0 2]\n",
    "print(linear_decay(array))   # [4 3 4 3 2 0 0 0 4 3 2 1 0 4 3 2 0 4 0 4]"
   ]
  },
  {
   "cell_type": "code",
   "execution_count": null,
   "metadata": {},
   "outputs": [],
   "source": [
    "generator = dataset.new_generator(root=\"../../dataset/newbie-dataset/\", slice_duration=5.0, mark_onset=True, shuffle=False)"
   ]
  },
  {
   "cell_type": "code",
   "execution_count": null,
   "metadata": {},
   "outputs": [],
   "source": [
    "score_matrix, perf_matrix, (head, tail) = next(generator)\n",
    "util.plot_midi_matrices(score_matrix, perf_matrix, (head, tail))"
   ]
  },
  {
   "cell_type": "code",
   "execution_count": null,
   "metadata": {},
   "outputs": [],
   "source": [
    "score_without_decay = midi_unit.MIDIUnitSeqList.from_midi_matrix(score_matrix)\n",
    "print(score_without_decay)"
   ]
  },
  {
   "cell_type": "code",
   "execution_count": null,
   "metadata": {},
   "outputs": [],
   "source": [
    "score_with_decay = midi_unit.MIDIUnitSeqList.from_midi_matrix(score_matrix, linear_decay)\n",
    "print(score_with_decay)"
   ]
  },
  {
   "cell_type": "code",
   "execution_count": null,
   "metadata": {},
   "outputs": [],
   "source": [
    "decayed_score_matrix = score_with_decay.to_midi_matrix(set_velocity=True)\n",
    "util.plot_midi_matrices(score_matrix, decayed_score_matrix, title1=\"Before Decaying\", title2=f\"After Decaying ({settling_frame=})\")"
   ]
  }
 ],
 "metadata": {
  "interpreter": {
   "hash": "61ae02ee63d492e5d0bc817a61fc444bb41ceb6091d6f384c2d1a09da7a921e3"
  },
  "kernelspec": {
   "display_name": "Python 3.8.10 64-bit ('.venv': venv)",
   "language": "python",
   "name": "python3"
  },
  "language_info": {
   "codemirror_mode": {
    "name": "ipython",
    "version": 3
   },
   "file_extension": ".py",
   "mimetype": "text/x-python",
   "name": "python",
   "nbconvert_exporter": "python",
   "pygments_lexer": "ipython3",
   "version": "3.8.10"
  },
  "orig_nbformat": 4
 },
 "nbformat": 4,
 "nbformat_minor": 2
}
