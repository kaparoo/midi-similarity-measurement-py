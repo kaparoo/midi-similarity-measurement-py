{
 "cells": [
  {
   "cell_type": "code",
   "execution_count": 15,
   "metadata": {},
   "outputs": [],
   "source": [
    "import sys\n",
    "sys.path.append(\"..\")"
   ]
  },
  {
   "cell_type": "code",
   "execution_count": 2,
   "metadata": {},
   "outputs": [],
   "source": [
    "import dataset\n",
    "import matplotlib.pyplot as plt\n",
    "import numpy as np\n",
    "\n",
    "from midi import *"
   ]
  },
  {
   "cell_type": "code",
   "execution_count": 3,
   "metadata": {},
   "outputs": [
    {
     "name": "stdout",
     "output_type": "stream",
     "text": [
      "[1 1 1 1 1 0 0 0 1 1 1 1 0 1 1 1 0 1 0 1]\n"
     ]
    }
   ],
   "source": [
    "array = np.array([1, 1, 1, 1, 1, 0, 0, 0, 1, 1, 1, 1, 0, 1, 1, 1, 0, 1, 0, 1])\n",
    "print(array)"
   ]
  },
  {
   "cell_type": "code",
   "execution_count": 4,
   "metadata": {},
   "outputs": [],
   "source": [
    "settling_frame = 10\n",
    "decayed_array = np.zeros_like(array)\n",
    "\n",
    "prev_pressed, prev_velocity = False, 0\n",
    "for idx in range(len(array)):\n",
    "    curr_velocity = 0\n",
    "    if array[idx] <= 0:\n",
    "        prev_pressed = False\n",
    "    elif idx > 0:\n",
    "        prev_velocity = decayed_array[idx - 1]\n",
    "        if prev_velocity > 0:\n",
    "            curr_velocity = prev_velocity - 1\n",
    "        elif not prev_pressed:\n",
    "            curr_velocity = settling_frame - 1\n",
    "        prev_pressed = True\n",
    "    else:\n",
    "        curr_velocity = settling_frame - 1\n",
    "        prev_pressed = True\n",
    "    decayed_array[idx] = curr_velocity"
   ]
  },
  {
   "cell_type": "code",
   "execution_count": 5,
   "metadata": {},
   "outputs": [
    {
     "name": "stdout",
     "output_type": "stream",
     "text": [
      "[1 1 1 1 1 0 0 0 1 1 1 1 0 1 1 1 0 1 0 1]\n",
      "[9 8 7 6 5 0 0 0 9 8 7 6 0 9 8 7 0 9 0 9]\n"
     ]
    }
   ],
   "source": [
    "print(array)\n",
    "print(decayed_array)"
   ]
  },
  {
   "cell_type": "code",
   "execution_count": 8,
   "metadata": {},
   "outputs": [],
   "source": [
    "def display(score, perf, head, tail) -> None:\n",
    "    plt.figure(figsize=(16, 9))\n",
    "    \n",
    "    plt.subplot(2, 1, 1)\n",
    "    plt.title(\"Score\")\n",
    "    plt.imshow(score, cmap=\"gray\", aspect=\"auto\", origin=\"lower\", interpolation=\"nearest\")\n",
    "    plt.ylabel(\"MIDI Key\")\n",
    "    plt.xlabel(\"Frame\")\n",
    "    ylim, _ = score.shape\n",
    "    plt.ylim([0, ylim])\n",
    "\n",
    "\n",
    "    plt.subplot(2, 1, 2)\n",
    "    plt.title(\"Performance\")\n",
    "    plt.imshow(perf, cmap=\"gray\", aspect=\"auto\", origin=\"lower\", interpolation=\"nearest\")\n",
    "    plt.ylabel(\"MIDI Key\")\n",
    "    plt.xlabel(\"Frame\")\n",
    "    ylim, _ = perf.shape\n",
    "    plt.vlines(head, 0, ylim, label=\"head\")\n",
    "    plt.vlines(tail, 0, ylim, label=\"tail\")\n",
    "    plt.legend()\n",
    "    plt.ylim([0, ylim])\n",
    "\n",
    "    plt.show()"
   ]
  },
  {
   "cell_type": "code",
   "execution_count": 10,
   "metadata": {},
   "outputs": [],
   "source": [
    "generator = dataset.new_generator(root=\"../../dataset/newbie-dataset/\", slice_duration=5, note_scale=0.90, shuffle=False)"
   ]
  },
  {
   "cell_type": "code",
   "execution_count": 11,
   "metadata": {},
   "outputs": [
    {
     "data": {
      "image/png": "[encoded data removed]",
      "text/plain": [
       "<Figure size 1152x648 with 2 Axes>"
      ]
     },
     "metadata": {
      "needs_background": "light"
     },
     "output_type": "display_data"
    }
   ],
   "source": [
    "score_matrix, perf_matrix, (head, tail) = next(generator)\n",
    "display(score_matrix, perf_matrix, head, tail)"
   ]
  },
  {
   "cell_type": "code",
   "execution_count": 12,
   "metadata": {},
   "outputs": [
    {
     "name": "stdout",
     "output_type": "stream",
     "text": [
      "[[Note(64, 1.00), Note(79, 1.00)], [Note(64, 1.00), Note(79, 1.00)], [Note(64, 1.00), Note(79, 1.00)], [Note(64, 1.00), Note(79, 1.00)], [Note(64, 1.00), Note(79, 1.00)], [Note(79, 1.00)], [Note(60, 1.00), Note(79, 1.00)], [Note(60, 1.00), Note(79, 1.00)], [Note(60, 1.00), Note(79, 1.00)], [Note(60, 1.00), Note(79, 1.00)], [Note(79, 1.00)], [Note(64, 1.00), Note(79, 1.00)], [Note(64, 1.00), Note(79, 1.00)], [Note(64, 1.00), Note(79, 1.00)], [Note(64, 1.00)], [Rest], [Note(60, 1.00), Note(76, 1.00)], [Note(60, 1.00), Note(76, 1.00)], [Note(60, 1.00), Note(76, 1.00)], [Note(60, 1.00), Note(76, 1.00)], [Rest], [Note(64, 1.00), Note(72, 1.00)], [Note(64, 1.00), Note(72, 1.00)], [Note(64, 1.00), Note(72, 1.00)], [Note(64, 1.00), Note(72, 1.00)], [Note(64, 1.00), Note(72, 1.00)], [Note(60, 1.00), Note(67, 1.00)], [Note(60, 1.00), Note(67, 1.00)], [Note(60, 1.00), Note(67, 1.00)], [Note(60, 1.00), Note(67, 1.00)], [Note(60, 1.00), Note(67, 1.00)], [Rest], [Note(64, 1.00), Note(67, 1.00)], [Note(64, 1.00), Note(67, 1.00)], [Note(64, 1.00), Note(67, 1.00)], [Note(64, 1.00), Note(67, 1.00)], [Rest], [Note(60, 1.00), Note(67, 1.00)], [Note(60, 1.00), Note(67, 1.00)], [Note(60, 1.00), Note(67, 1.00)], [Note(60, 1.00), Note(67, 1.00)], [Rest], [Note(64, 1.00), Note(79, 1.00)], [Note(64, 1.00), Note(79, 1.00)], [Note(64, 1.00), Note(79, 1.00)], [Note(64, 1.00), Note(79, 1.00)], [Note(79, 1.00)], [Note(60, 1.00), Note(79, 1.00)], [Note(60, 1.00), Note(79, 1.00)], [Note(60, 1.00), Note(79, 1.00)], [Note(60, 1.00), Note(79, 1.00)], [Note(79, 1.00)], [Note(64, 1.00), Note(79, 1.00)], [Note(64, 1.00), Note(79, 1.00)], [Note(64, 1.00), Note(79, 1.00)], [Note(64, 1.00)], [Note(64, 1.00)], [Note(60, 1.00), Note(76, 1.00)], [Note(60, 1.00), Note(76, 1.00)], [Note(60, 1.00), Note(76, 1.00)], [Note(60, 1.00), Note(76, 1.00)], [Note(60, 1.00), Note(76, 1.00)], [Rest], [Note(64, 1.00), Note(72, 1.00)], [Note(64, 1.00), Note(72, 1.00)], [Note(64, 1.00), Note(74, 1.00)], [Note(64, 1.00), Note(74, 1.00)], [Rest], [Note(60, 1.00), Note(76, 1.00)], [Note(60, 1.00), Note(76, 1.00)], [Note(60, 1.00), Note(77, 1.00)], [Note(60, 1.00), Note(77, 1.00)], [Note(77, 1.00)], [Note(64, 1.00), Note(79, 1.00)], [Note(64, 1.00), Note(79, 1.00)], [Note(64, 1.00), Note(81, 1.00)], [Note(64, 1.00), Note(81, 1.00)], [Note(81, 1.00)], [Note(60, 1.00), Note(83, 1.00)], [Note(60, 1.00), Note(83, 1.00)], [Note(60, 1.00)], [Note(60, 1.00), Note(84, 1.00)], [Note(84, 1.00)], [Note(65, 1.00), Note(83, 1.00)], [Note(65, 1.00), Note(83, 1.00)], [Note(65, 1.00), Note(83, 1.00)], [Note(65, 1.00), Note(83, 1.00)], [Note(65, 1.00), Note(83, 1.00)], [Note(60, 1.00), Note(81, 1.00)], [Note(60, 1.00), Note(81, 1.00)], [Note(60, 1.00), Note(81, 1.00)], [Note(60, 1.00), Note(81, 1.00)], [Note(60, 1.00), Note(81, 1.00)], [Rest], [Note(65, 1.00), Note(81, 1.00)], [Note(65, 1.00), Note(81, 1.00)], [Note(65, 1.00), Note(81, 1.00)], [Note(65, 1.00), Note(81, 1.00)], [Rest], [Note(60, 1.00), Note(81, 1.00)], [Note(60, 1.00), Note(81, 1.00)], [Note(60, 1.00), Note(81, 1.00)]]\n"
     ]
    }
   ],
   "source": [
    "score_without_decay = MIDIUnitSequenceList.from_midi_matrix(score_matrix)\n",
    "print(score_without_decay)"
   ]
  },
  {
   "cell_type": "code",
   "execution_count": 13,
   "metadata": {},
   "outputs": [
    {
     "name": "stdout",
     "output_type": "stream",
     "text": [
      "[[Note(64, 9.00), Note(79, 9.00)], [Note(64, 8.00), Note(79, 8.00)], [Note(64, 7.00), Note(79, 7.00)], [Note(64, 6.00), Note(79, 6.00)], [Note(64, 5.00), Note(79, 5.00)], [Note(79, 4.00)], [Note(60, 9.00), Note(79, 3.00)], [Note(60, 8.00), Note(79, 2.00)], [Note(60, 7.00), Note(79, 1.00)], [Note(60, 6.00)], [Rest], [Note(64, 9.00)], [Note(64, 8.00)], [Note(64, 7.00)], [Note(64, 6.00)], [Rest], [Note(60, 9.00), Note(76, 9.00)], [Note(60, 8.00), Note(76, 8.00)], [Note(60, 7.00), Note(76, 7.00)], [Note(60, 6.00), Note(76, 6.00)], [Rest], [Note(64, 9.00), Note(72, 9.00)], [Note(64, 8.00), Note(72, 8.00)], [Note(64, 7.00), Note(72, 7.00)], [Note(64, 6.00), Note(72, 6.00)], [Note(64, 5.00), Note(72, 5.00)], [Note(60, 9.00), Note(67, 9.00)], [Note(60, 8.00), Note(67, 8.00)], [Note(60, 7.00), Note(67, 7.00)], [Note(60, 6.00), Note(67, 6.00)], [Note(60, 5.00), Note(67, 5.00)], [Rest], [Note(64, 9.00), Note(67, 9.00)], [Note(64, 8.00), Note(67, 8.00)], [Note(64, 7.00), Note(67, 7.00)], [Note(64, 6.00), Note(67, 6.00)], [Rest], [Note(60, 9.00), Note(67, 9.00)], [Note(60, 8.00), Note(67, 8.00)], [Note(60, 7.00), Note(67, 7.00)], [Note(60, 6.00), Note(67, 6.00)], [Rest], [Note(64, 9.00), Note(79, 9.00)], [Note(64, 8.00), Note(79, 8.00)], [Note(64, 7.00), Note(79, 7.00)], [Note(64, 6.00), Note(79, 6.00)], [Note(79, 5.00)], [Note(60, 9.00), Note(79, 4.00)], [Note(60, 8.00), Note(79, 3.00)], [Note(60, 7.00), Note(79, 2.00)], [Note(60, 6.00), Note(79, 1.00)], [Rest], [Note(64, 9.00)], [Note(64, 8.00)], [Note(64, 7.00)], [Note(64, 6.00)], [Note(64, 5.00)], [Note(60, 9.00), Note(76, 9.00)], [Note(60, 8.00), Note(76, 8.00)], [Note(60, 7.00), Note(76, 7.00)], [Note(60, 6.00), Note(76, 6.00)], [Note(60, 5.00), Note(76, 5.00)], [Rest], [Note(64, 9.00), Note(72, 9.00)], [Note(64, 8.00), Note(72, 8.00)], [Note(64, 7.00), Note(74, 9.00)], [Note(64, 6.00), Note(74, 8.00)], [Rest], [Note(60, 9.00), Note(76, 9.00)], [Note(60, 8.00), Note(76, 8.00)], [Note(60, 7.00), Note(77, 9.00)], [Note(60, 6.00), Note(77, 8.00)], [Note(77, 7.00)], [Note(64, 9.00), Note(79, 9.00)], [Note(64, 8.00), Note(79, 8.00)], [Note(64, 7.00), Note(81, 9.00)], [Note(64, 6.00), Note(81, 8.00)], [Note(81, 7.00)], [Note(60, 9.00), Note(83, 9.00)], [Note(60, 8.00), Note(83, 8.00)], [Note(60, 7.00)], [Note(60, 6.00), Note(84, 9.00)], [Note(84, 8.00)], [Note(65, 9.00), Note(83, 9.00)], [Note(65, 8.00), Note(83, 8.00)], [Note(65, 7.00), Note(83, 7.00)], [Note(65, 6.00), Note(83, 6.00)], [Note(65, 5.00), Note(83, 5.00)], [Note(60, 9.00), Note(81, 9.00)], [Note(60, 8.00), Note(81, 8.00)], [Note(60, 7.00), Note(81, 7.00)], [Note(60, 6.00), Note(81, 6.00)], [Note(60, 5.00), Note(81, 5.00)], [Rest], [Note(65, 9.00), Note(81, 9.00)], [Note(65, 8.00), Note(81, 8.00)], [Note(65, 7.00), Note(81, 7.00)], [Note(65, 6.00), Note(81, 6.00)], [Rest], [Note(60, 9.00), Note(81, 9.00)], [Note(60, 8.00), Note(81, 8.00)], [Note(60, 7.00), Note(81, 7.00)]]\n"
     ]
    }
   ],
   "source": [
    "decay_fn = get_decay(settling_frame=10)\n",
    "score_with_decay = MIDIUnitSequenceList.from_midi_matrix(score_matrix, decay_fn)\n",
    "print(score_with_decay)"
   ]
  },
  {
   "cell_type": "code",
   "execution_count": 14,
   "metadata": {},
   "outputs": [
    {
     "data": {
      "image/png": "[encoded data removed]",
      "text/plain": [
       "<Figure size 1152x288 with 1 Axes>"
      ]
     },
     "metadata": {
      "needs_background": "light"
     },
     "output_type": "display_data"
    },
    {
     "data": {
      "image/png": "[encoded data removed]",
      "text/plain": [
       "<Figure size 1152x288 with 1 Axes>"
      ]
     },
     "metadata": {
      "needs_background": "light"
     },
     "output_type": "display_data"
    }
   ],
   "source": [
    "decayed_score_matrix = score_with_decay.to_midi_matrix(use_velocity=True)\n",
    "\n",
    "plt.figure(figsize=(16, 4))\n",
    "plt.imshow(score_matrix, cmap=\"gray\", aspect=\"auto\", origin=\"lower\", interpolation=\"nearest\")\n",
    "plt.ylabel(\"MIDI Key\")\n",
    "plt.xlabel(\"Frame\")\n",
    "plt.show()\n",
    "\n",
    "plt.figure(figsize=(16, 4))\n",
    "plt.imshow(decayed_score_matrix, cmap=\"gray\", aspect=\"auto\", origin=\"lower\", interpolation=\"nearest\")\n",
    "plt.ylabel(\"MIDI Key\")\n",
    "plt.xlabel(\"Frame\")\n",
    "plt.show()"
   ]
  }
 ],
 "metadata": {
  "interpreter": {
   "hash": "61ae02ee63d492e5d0bc817a61fc444bb41ceb6091d6f384c2d1a09da7a921e3"
  },
  "kernelspec": {
   "display_name": "Python 3.8.10 64-bit ('.venv': venv)",
   "language": "python",
   "name": "python3"
  },
  "language_info": {
   "codemirror_mode": {
    "name": "ipython",
    "version": 3
   },
   "file_extension": ".py",
   "mimetype": "text/x-python",
   "name": "python",
   "nbconvert_exporter": "python",
   "pygments_lexer": "ipython3",
   "version": "3.8.10"
  },
  "orig_nbformat": 4
 },
 "nbformat": 4,
 "nbformat_minor": 2
}
