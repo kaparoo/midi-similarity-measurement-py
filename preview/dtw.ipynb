{
 "cells": [
  {
   "cell_type": "code",
   "execution_count": 1,
   "metadata": {},
   "outputs": [],
   "source": [
    "import sys\n",
    "sys.path.append(\"..\")\n",
    "\n",
    "import matplotlib.pyplot as plt\n",
    "import numpy as np\n",
    "import tqdm\n",
    "\n",
    "from dataset import *\n",
    "from midi_unit import *\n",
    "from similarity import *\n",
    "from util import *"
   ]
  },
  {
   "cell_type": "code",
   "execution_count": null,
   "metadata": {},
   "outputs": [],
   "source": [
    "generator = new_generator(root=\"../../dataset/newbie-dataset/\", slice_duration=(2.0, 5.0), expansion_rate=1.0, mark_onset=False, shuffle=True, verbose=True)"
   ]
  },
  {
   "cell_type": "code",
   "execution_count": null,
   "metadata": {},
   "outputs": [],
   "source": [
    "((score_matrix, perf_matrix, (original_head, original_tail)), (perf_path, _, _)) = next(generator)"
   ]
  },
  {
   "cell_type": "code",
   "execution_count": null,
   "metadata": {},
   "outputs": [],
   "source": [
    "perf_matrix = np.ones_like(perf_matrix)"
   ]
  },
  {
   "cell_type": "code",
   "execution_count": null,
   "metadata": {},
   "outputs": [],
   "source": [
    "# decay_fn = make_decay_fn(\"linear\", settling_frame=2)\n",
    "decay_fn = lambda x: x\n",
    "score_seqlist = MIDIUnitSeqList.from_midi_matrix(score_matrix)\n",
    "perf_seqlist = MIDIUnitSeqList.from_midi_matrix(perf_matrix)\n",
    "\n",
    "score_sequence = score_seqlist.repr_sequence\n",
    "perf_sequence = perf_seqlist.repr_sequence\n",
    "original_sequence = perf_seqlist[original_head:original_tail+1].repr_sequence"
   ]
  },
  {
   "cell_type": "code",
   "execution_count": 13,
   "metadata": {},
   "outputs": [
    {
     "name": "stdout",
     "output_type": "stream",
     "text": [
      "[Note(70, 1.0), Rest, Rest, Rest, Note(45, 1.0), Rest, Note(70, 1.0), Rest, Rest, Rest, Note(45, 1.0), Rest]\n",
      "[Note(70, 1.0), Rest, Note(45, 1.0), Rest, Rest, Rest, Note(70, 1.0), Rest, Note(45, 1.0), Rest, Rest, Rest]\n"
     ]
    }
   ],
   "source": [
    "score_sequence = MIDIUnitSequence()\n",
    "score_sequence.append(MIDINote(midi_key=70, velocity=1))\n",
    "score_sequence.append(MIDIRest())\n",
    "score_sequence.append(MIDIRest())\n",
    "score_sequence.append(MIDIRest())\n",
    "score_sequence.append(MIDINote(midi_key=45, velocity=1))\n",
    "score_sequence.append(MIDIRest())\n",
    "\n",
    "score_sequence.append(MIDINote(midi_key=70, velocity=1))\n",
    "score_sequence.append(MIDIRest())\n",
    "score_sequence.append(MIDIRest())\n",
    "score_sequence.append(MIDIRest())\n",
    "score_sequence.append(MIDINote(midi_key=45, velocity=1))\n",
    "score_sequence.append(MIDIRest())\n",
    "\n",
    "\n",
    "perf_sequence = MIDIUnitSequence()\n",
    "# perf_sequence.append(MIDIRest())\n",
    "# perf_sequence.append(MIDIRest())\n",
    "# perf_sequence.append(MIDINote(midi_key=23, velocity=1))\n",
    "perf_sequence.append(MIDINote(midi_key=70, velocity=1))\n",
    "perf_sequence.append(MIDIRest())\n",
    "perf_sequence.append(MIDINote(midi_key=45, velocity=1))\n",
    "perf_sequence.append(MIDIRest())\n",
    "perf_sequence.append(MIDIRest())\n",
    "perf_sequence.append(MIDIRest())\n",
    "\n",
    "perf_sequence.append(MIDINote(midi_key=70, velocity=1))\n",
    "perf_sequence.append(MIDIRest())\n",
    "perf_sequence.append(MIDINote(midi_key=45, velocity=1))\n",
    "perf_sequence.append(MIDIRest())\n",
    "perf_sequence.append(MIDIRest())\n",
    "perf_sequence.append(MIDIRest())\n",
    "\n",
    "# perf_sequence = score_sequence[::]\n",
    "\n",
    "print(score_sequence)\n",
    "print(perf_sequence)"
   ]
  },
  {
   "cell_type": "code",
   "execution_count": null,
   "metadata": {},
   "outputs": [],
   "source": [
    "decayed_score_matrix = score_seqlist.to_midi_matrix(set_velocity=True)\n",
    "decayed_perf_matrix = perf_seqlist.to_midi_matrix(set_velocity=True)\n",
    "\n",
    "plot_midi_matrices(decayed_score_matrix, decayed_perf_matrix,\n",
    "                   (original_head, original_tail),\n",
    "                   title1=\"Score %s\" % perf_path,\n",
    "                   title2=\"Performance\")"
   ]
  },
  {
   "cell_type": "code",
   "execution_count": 14,
   "metadata": {},
   "outputs": [
    {
     "name": "stdout",
     "output_type": "stream",
     "text": [
      "global_cost=0.00\n",
      "subsequence_cost=0.00\n"
     ]
    }
   ],
   "source": [
    "# original_cost, _, _, original_path = global_dtw(score_sequence, original_sequence)\n",
    "global_cost, (global_head, global_tail), _, global_path = global_dtw(score_sequence, perf_sequence)\n",
    "subsequence_cost, (subsequence_head, subsequence_tail), subsequence_matrix, subsequence_path = subsequence_dtw(score_sequence, perf_sequence)\n",
    "\n",
    "# original_path = np.array([(original_head+x, y) for (x, y) in original_path])\n",
    "global_path = np.array([(x, y) for (x, y) in global_path])\n",
    "subsequence_path = np.array([(x, y) for (x, y) in subsequence_path])\n",
    "\n",
    "# print(f\"{original_cost=:.2f}\")\n",
    "print(f\"{global_cost=:.2f}\")\n",
    "print(f\"{subsequence_cost=:.2f}\")"
   ]
  },
  {
   "cell_type": "code",
   "execution_count": 15,
   "metadata": {},
   "outputs": [
    {
     "data": {
      "image/png": "[encoded data removed]",
      "text/plain": [
       "<Figure size 1152x864 with 6 Axes>"
      ]
     },
     "metadata": {},
     "output_type": "display_data"
    }
   ],
   "source": [
    "\n",
    "score_sequence_matrix = score_sequence.to_midi_matrix(set_velocity=True)\n",
    "score_sequence_matrix = np.rot90(score_sequence_matrix, axes=(1, 0))\n",
    "perf_sequence_matrix = perf_sequence.to_midi_matrix(set_velocity=True)\n",
    "\n",
    "num_score_frame, num_perf_frame = subsequence_matrix.shape\n",
    "delta_functions = subsequence_matrix[-1, :]\n",
    "delta_max = np.max(delta_functions)\n",
    "\n",
    "fig, axes = plt.subplots(3, 2, gridspec_kw = {\"width_ratios\": [1, 7], \"height_ratios\": [1, 4, 1]}, facecolor=\"white\", figsize=(16, 12))\n",
    "fig.text(0.5, 0, \"Perf. Repr. Sequence\", ha=\"center\", va=\"center\", fontdict={\"weight\":\"semibold\"})\n",
    "fig.text(0, 0.5, \"Score Repr. Sequence\", ha=\"center\", va=\"center\", rotation=\"vertical\", fontdict={\"weight\":\"semibold\"})\n",
    "\n",
    "axes[0][0].axis(\"off\")  # hide\n",
    "\n",
    "axes[0][1].plot(delta_functions)\n",
    "# axes[0][1].vlines(original_head, 0, delta_max, \"r\", linewidth=3, clip_on=False)\n",
    "# axes[0][1].vlines(original_tail, 0, delta_max, \"r\", linewidth=3, clip_on=False)\n",
    "axes[0][1].vlines(global_head, 0, delta_max, \"g\", linewidth=3, clip_on=False)\n",
    "axes[0][1].vlines(global_tail, 0, delta_max, \"g\", linewidth=3, clip_on=False)\n",
    "axes[0][1].vlines(subsequence_head, 0, delta_max, \"b\", linewidth=3, clip_on=False)\n",
    "axes[0][1].vlines(subsequence_tail, 0, delta_max, \"b\", linewidth=3, clip_on=False)\n",
    "axes[0][1].set_xlim([-0.5, num_perf_frame - 0.5])\n",
    "axes[0][1].set_ylim([0, delta_max])\n",
    "axes[0][1].xaxis.set_visible(False)\n",
    "axes[0][1].yaxis.set_visible(False)\n",
    "\n",
    "axes[1][0].imshow(score_sequence_matrix, cmap=\"gray\", aspect=\"auto\", origin=\"lower\", interpolation=\"nearest\")\n",
    "axes[1][0].set_xlim([0, MAX_MIDI_KEY])\n",
    "axes[1][0].set_ylim([-0.5, num_score_frame - 0.5])\n",
    "axes[1][0].axis(\"off\")\n",
    "\n",
    "axes[1][1].imshow(subsequence_matrix, cmap=\"gray\", aspect=\"auto\", origin=\"lower\", interpolation=\"nearest\")\n",
    "# axes[1][1].vlines(original_head, -0.5, num_score_frame - 0.5, \"r\", linewidth=3, clip_on=False)\n",
    "# axes[1][1].vlines(original_tail, -0.5, num_score_frame - 0.5, \"r\", linewidth=3, clip_on=False)\n",
    "axes[1][1].vlines(global_head, - 0.5, num_score_frame - 0.5, \"g\", linewidth=3, clip_on=False)\n",
    "axes[1][1].vlines(global_tail, - 0.5, num_score_frame - 0.5, \"g\", linewidth=3, clip_on=False)\n",
    "axes[1][1].vlines(subsequence_head, - 0.5, num_score_frame - 0.5, \"b\", linewidth=3, clip_on=False)\n",
    "axes[1][1].vlines(subsequence_tail, - 0.5, num_score_frame - 0.5, \"b\", linewidth=3, clip_on=False)\n",
    "# axes[1][1].plot(original_path[:, 0], original_path[:, 1], \"r\", clip_on=False, label=\"original\")\n",
    "axes[1][1].plot(global_path[:, 0], global_path[:, 1], \"g\", clip_on=False, label=\"global\")\n",
    "axes[1][1].plot(subsequence_path[:, 0], subsequence_path[:, 1], \"b\", clip_on=False, label=\"subsequence\")\n",
    "axes[1][1].legend()\n",
    "axes[1][1].set_xlim([-0.5, num_perf_frame -0.5])\n",
    "axes[1][1].set_ylim([-0.5, num_score_frame -0.5])\n",
    "axes[1][1].xaxis.set_visible(False)\n",
    "axes[1][1].yaxis.set_visible(False)\n",
    "\n",
    "axes[2][0].axis(\"off\")  # hide\n",
    "\n",
    "axes[2][1].imshow(perf_sequence_matrix, cmap=\"gray\", aspect=\"auto\", origin=\"lower\", interpolation=\"nearest\")\n",
    "# axes[2][1].vlines(original_head, 0, MAX_MIDI_KEY, \"r\", linewidth=3, clip_on=False)\n",
    "# axes[2][1].vlines(original_tail, 0, MAX_MIDI_KEY, \"r\", linewidth=3, clip_on=False)\n",
    "axes[2][1].set_xlim([-0.5, num_perf_frame - 0.5])\n",
    "axes[2][1].set_ylim([0, MAX_MIDI_KEY])\n",
    "axes[2][1].axis(\"off\")\n",
    "\n",
    "plt.tight_layout()\n",
    "plt.show()"
   ]
  },
  {
   "cell_type": "code",
   "execution_count": null,
   "metadata": {},
   "outputs": [],
   "source": [
    "# For asap-dataset\n",
    "# dataset_root = \"../../dataset/asap-dataset\"\n",
    "# score_prefix = \"midi_score\"\n",
    "\n",
    "# For newbie-dataset\n",
    "dataset_root = \"../../dataset/newbie-dataset\"\n",
    "score_prefix = \"score\"\n",
    "slice_duration = [2.0, 5.0]\n",
    "expansion_rate = 1.0\n",
    "frames_per_second = 20 # Hz\n",
    "settling_frame = 2\n",
    "\n",
    "num_samples = 100\n",
    "\n",
    "generator = new_generator(root=dataset_root,\n",
    "                          score_prefix=score_prefix,\n",
    "                          slice_duration=slice_duration,\n",
    "                          expansion_rate=expansion_rate,\n",
    "                          frames_per_second=frames_per_second,\n",
    "                          mark_onset=True, shuffle=True, verbose=True)\n",
    "\n",
    "decay_fn = make_decay_fn(\"linear\", settling_frame=settling_frame)\n",
    "\n",
    "threshold = 0.95"
   ]
  },
  {
   "cell_type": "code",
   "execution_count": null,
   "metadata": {},
   "outputs": [],
   "source": [
    "accuracies = []\n",
    "precisions = []\n",
    "recalls = []\n",
    "f1_scores = []\n",
    "ious = []\n",
    "\n",
    "wrong_entries = []\n",
    "\n",
    "generator = tqdm.tqdm(generator, total=num_samples)\n",
    "description = \"[%d] accuracy: %.4f, f1_score: %.4f, iou: %.4f\"\n",
    "generator.set_description(description % (0, -1, -1, -1))\n",
    "for idx, ((score_matrix, perf_matrix, original_alignment), (perf_path, slice_duration, expansion_rate)) in enumerate(generator):\n",
    "    score_seqlist = MIDIUnitSeqList.from_midi_matrix(score_matrix, decay_fn)\n",
    "    perf_seqlist = MIDIUnitSeqList.from_midi_matrix(perf_matrix, decay_fn)\n",
    "    score_repr_sequence = score_seqlist.repr_sequence\n",
    "    perf_repr_sequence = perf_seqlist.repr_sequence\n",
    "    _, subsequence_alignment, *_ = subsequence_dtw(score_repr_sequence, perf_repr_sequence)\n",
    "    alignment_scores = score_alignment(original_alignment, subsequence_alignment, len(perf_repr_sequence))\n",
    "    accuracy = alignment_scores[\"accuracy\"]\n",
    "    precision = alignment_scores[\"precision\"]\n",
    "    recall = alignment_scores[\"recall\"]\n",
    "    f1_score = alignment_scores[\"f1_score\"]\n",
    "    iou = alignment_scores[\"iou\"]\n",
    "\n",
    "    accuracies.append(accuracy)\n",
    "    precisions.append(precision)\n",
    "    recalls.append(recall)\n",
    "    f1_scores.append(f1_score)\n",
    "    ious.append(iou)\n",
    "\n",
    "    if min(accuracy, precision, recall, f1_score, iou) < threshold:\n",
    "        wrong_entries.append((score_matrix, perf_matrix,\n",
    "                               original_alignment,\n",
    "                               subsequence_alignment,\n",
    "                               perf_path,\n",
    "                               slice_duration,\n",
    "                               expansion_rate,\n",
    "                               alignment_scores))\n",
    "    \n",
    "    generator.set_description(description % (idx, accuracies[-1], f1_scores[-1], ious[-1]))"
   ]
  },
  {
   "cell_type": "code",
   "execution_count": null,
   "metadata": {},
   "outputs": [],
   "source": [
    "plt.figure(figsize=(16, 9), facecolor=\"white\")\n",
    "x = list(range(len(f1_scores)))\n",
    "plt.plot(x, accuracies, label=\"accuracy\")\n",
    "plt.plot(x, precisions, label=\"precision\")\n",
    "plt.plot(x, recalls, label=\"recall\")\n",
    "plt.plot(x, f1_scores, label=\"f1_score\")\n",
    "plt.plot(x, ious, label=\"iou\")\n",
    "plt.hlines(0.85, 0, x[-1])\n",
    "plt.legend()\n",
    "plt.ylim(0, 1.1)\n",
    "plt.show()"
   ]
  },
  {
   "cell_type": "code",
   "execution_count": null,
   "metadata": {},
   "outputs": [],
   "source": [
    "for score_matrix, perf_matrix, original_alignment, subsequence_alignment, perf_path, slice_duration, expansion_rate, alignment_scores in wrong_entries:\n",
    "    plt.figure(figsize=(16, 9), facecolor=\"white\")\n",
    "\n",
    "    accuracy = alignment_scores[\"accuracy\"]\n",
    "    precision = alignment_scores[\"precision\"]\n",
    "    recall = alignment_scores[\"recall\"]\n",
    "    f1_score = alignment_scores[\"f1_score\"]\n",
    "    iou = alignment_scores[\"iou\"]\n",
    "\n",
    "    plt.suptitle(f\"\"\"{perf_path}\n",
    "    {slice_duration=:.4f}, {expansion_rate=:.4f}\n",
    "    {accuracy=:.4f}, {f1_score=:.4f}({precision=:.4f}, {recall=:.4f}), {iou=:.4f}\"\"\")\n",
    "\n",
    "    plt.subplot(2, 1, 1)\n",
    "    plt.title(\"Score\")\n",
    "    plt.imshow(score_matrix, cmap=\"gray\", aspect=\"auto\", origin=\"lower\", interpolation=\"nearest\")\n",
    "    plt.ylabel(\"MIDI Key\")\n",
    "    plt.xlabel(\"Frame\")\n",
    "    ymax, xmax = score_matrix.shape\n",
    "    plt.ylim([-0.5, ymax - 0.5])\n",
    "    plt.xlim([-0.5, xmax - 0.5])\n",
    "\n",
    "    plt.subplot(2, 1, 2)\n",
    "    plt.title(\"Performance\")\n",
    "    plt.imshow(perf_matrix, cmap=\"gray\", aspect=\"auto\", origin=\"lower\", interpolation=\"nearest\")\n",
    "    plt.ylabel(\"MIDI Key\")\n",
    "    plt.xlabel(\"Frame\")\n",
    "    ymax, xmax = perf_matrix.shape\n",
    "    plt.vlines(original_alignment[0], -0.5, ymax - 0.5, \"r\", clip_on=False)\n",
    "    plt.vlines(original_alignment[1], -0.5, ymax - 0.5, \"r\", clip_on=False, label=\"original\")\n",
    "    plt.vlines(subsequence_alignment[0], -0.5, ymax - 0.5, \"b\", clip_on=False)\n",
    "    plt.vlines(subsequence_alignment[1], -0.5, ymax - 0.5, \"b\", clip_on=False, label=\"subsequence\")\n",
    "    plt.legend()\n",
    "    plt.ylim([-0.5, ymax - 0.5])\n",
    "    plt.xlim([-0.5, xmax - 0.5])\n",
    "\n",
    "    plt.tight_layout()\n",
    "    plt.show()"
   ]
  }
 ],
 "metadata": {
  "interpreter": {
   "hash": "61ae02ee63d492e5d0bc817a61fc444bb41ceb6091d6f384c2d1a09da7a921e3"
  },
  "kernelspec": {
   "display_name": "Python 3.8.10 64-bit ('.venv': venv)",
   "language": "python",
   "name": "python3"
  },
  "language_info": {
   "codemirror_mode": {
    "name": "ipython",
    "version": 3
   },
   "file_extension": ".py",
   "mimetype": "text/x-python",
   "name": "python",
   "nbconvert_exporter": "python",
   "pygments_lexer": "ipython3",
   "version": "3.8.10"
  },
  "orig_nbformat": 4
 },
 "nbformat": 4,
 "nbformat_minor": 2
}
