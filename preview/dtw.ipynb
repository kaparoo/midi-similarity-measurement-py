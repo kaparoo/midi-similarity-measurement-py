{
 "cells": [
  {
   "cell_type": "code",
   "execution_count": 1,
   "metadata": {},
   "outputs": [],
   "source": [
    "import sys\n",
    "sys.path.append(\"..\")\n",
    "\n",
    "import matplotlib.pyplot as plt\n",
    "import numpy as np\n",
    "\n",
    "from dataset import *\n",
    "from midi_unit import *\n",
    "from similarity import *"
   ]
  },
  {
   "cell_type": "code",
   "execution_count": 2,
   "metadata": {},
   "outputs": [],
   "source": [
    "generator = new_generator(root=\"../../dataset/newbie-dataset/\", slice_duration=3.0, mark_onset=True, shuffle=False)"
   ]
  },
  {
   "cell_type": "code",
   "execution_count": 3,
   "metadata": {},
   "outputs": [
    {
     "ename": "TypeError",
     "evalue": "cannot unpack non-iterable int object",
     "output_type": "error",
     "traceback": [
      "\u001b[1;31m---------------------------------------------------------------------------\u001b[0m",
      "\u001b[1;31mTypeError\u001b[0m                                 Traceback (most recent call last)",
      "\u001b[1;32m~\\AppData\\Local\\Temp/ipykernel_13428/549678465.py\u001b[0m in \u001b[0;36m<module>\u001b[1;34m\u001b[0m\n\u001b[1;32m----> 1\u001b[1;33m \u001b[0mscore_matrix\u001b[0m\u001b[1;33m,\u001b[0m \u001b[0mperf_matrix\u001b[0m\u001b[1;33m,\u001b[0m \u001b[1;33m(\u001b[0m\u001b[0moriginal_head\u001b[0m\u001b[1;33m,\u001b[0m \u001b[0moriginal_tail\u001b[0m\u001b[1;33m)\u001b[0m \u001b[1;33m=\u001b[0m \u001b[0mnext\u001b[0m\u001b[1;33m(\u001b[0m\u001b[0mgenerator\u001b[0m\u001b[1;33m)\u001b[0m\u001b[1;33m\u001b[0m\u001b[1;33m\u001b[0m\u001b[0m\n\u001b[0m\u001b[0;32m      2\u001b[0m \u001b[0mscore_matrix\u001b[0m\u001b[1;33m,\u001b[0m \u001b[0mperf_matrix\u001b[0m\u001b[1;33m,\u001b[0m \u001b[1;33m(\u001b[0m\u001b[0moriginal_head\u001b[0m\u001b[1;33m,\u001b[0m \u001b[0moriginal_tail\u001b[0m\u001b[1;33m)\u001b[0m \u001b[1;33m=\u001b[0m \u001b[0mnext\u001b[0m\u001b[1;33m(\u001b[0m\u001b[0mgenerator\u001b[0m\u001b[1;33m)\u001b[0m\u001b[1;33m\u001b[0m\u001b[1;33m\u001b[0m\u001b[0m\n",
      "\u001b[1;32md:\\git\\midi-similarity-measurement\\preview\\..\\dataset\\generator.py\u001b[0m in \u001b[0;36mnew_generator\u001b[1;34m(root, score_prefix, slice_duration, expansion_rate, frames_per_second, mark_onset, shuffle, verbose)\u001b[0m\n\u001b[0;32m     57\u001b[0m     \u001b[0mget_slice_duration\u001b[0m \u001b[1;33m=\u001b[0m \u001b[1;32mlambda\u001b[0m\u001b[1;33m:\u001b[0m \u001b[0mslice_duration\u001b[0m\u001b[1;33m\u001b[0m\u001b[1;33m\u001b[0m\u001b[0m\n\u001b[0;32m     58\u001b[0m     \u001b[1;32mif\u001b[0m \u001b[1;32mnot\u001b[0m \u001b[0misinstance\u001b[0m\u001b[1;33m(\u001b[0m\u001b[0mslice_duration\u001b[0m\u001b[1;33m,\u001b[0m \u001b[0mfloat\u001b[0m\u001b[1;33m)\u001b[0m\u001b[1;33m:\u001b[0m\u001b[1;33m\u001b[0m\u001b[1;33m\u001b[0m\u001b[0m\n\u001b[1;32m---> 59\u001b[1;33m         \u001b[0mstart1\u001b[0m\u001b[1;33m,\u001b[0m \u001b[0mend1\u001b[0m \u001b[1;33m=\u001b[0m \u001b[0mslice_duration\u001b[0m\u001b[1;33m\u001b[0m\u001b[1;33m\u001b[0m\u001b[0m\n\u001b[0m\u001b[0;32m     60\u001b[0m         \u001b[0mget_slice_duration\u001b[0m \u001b[1;33m=\u001b[0m \u001b[1;32mlambda\u001b[0m\u001b[1;33m:\u001b[0m \u001b[0mrandom\u001b[0m\u001b[1;33m.\u001b[0m\u001b[0muniform\u001b[0m\u001b[1;33m(\u001b[0m\u001b[0mstart1\u001b[0m\u001b[1;33m,\u001b[0m \u001b[0mend1\u001b[0m\u001b[1;33m)\u001b[0m\u001b[1;33m\u001b[0m\u001b[1;33m\u001b[0m\u001b[0m\n\u001b[0;32m     61\u001b[0m \u001b[1;33m\u001b[0m\u001b[0m\n",
      "\u001b[1;31mTypeError\u001b[0m: cannot unpack non-iterable int object"
     ]
    }
   ],
   "source": [
    "score_matrix, perf_matrix, (original_head, original_tail) = next(generator)\n",
    "score_matrix, perf_matrix, (original_head, original_tail) = next(generator)"
   ]
  },
  {
   "cell_type": "code",
   "execution_count": null,
   "metadata": {},
   "outputs": [],
   "source": [
    "decay_fn = make_decay_fn(\"linear\", settling_frame=2)\n",
    "score_seq_list = MIDIUnitSeqList.from_midi_matrix(score_matrix, decay_fn)\n",
    "perf_seq_list = MIDIUnitSeqList.from_midi_matrix(perf_matrix, decay_fn)"
   ]
  },
  {
   "cell_type": "code",
   "execution_count": null,
   "metadata": {},
   "outputs": [],
   "source": [
    "score_sequence = score_seq_list.repr_sequence\n",
    "perf_sequence = perf_seq_list.repr_sequence\n",
    "original_sequence = perf_seq_list[original_head: original_tail+1].repr_sequence\n"
   ]
  },
  {
   "cell_type": "code",
   "execution_count": null,
   "metadata": {},
   "outputs": [],
   "source": [
    "original_cost, _, _, original_path = global_dtw(score_sequence, original_sequence)\n",
    "original_path = np.array([(original_head + x, y) for (x, y) in original_path])\n",
    "print(f\"{original_cost=:.2f}\")\n",
    "\n",
    "global_cost, (global_head, global_tail), global_matrix, global_path = global_dtw(score_sequence, perf_sequence)\n",
    "global_path = np.array(global_path)\n",
    "print(f\"{global_cost=:.2f}\")\n",
    "\n",
    "subsequence_cost, (subsequence_head, subsequence_tail), subsequence_matrix, subsequence_path = subsequence_dtw(score_sequence, perf_sequence)\n",
    "subsequence_path = np.array(subsequence_path)\n",
    "print(f\"{subsequence_cost=:.2f}\")"
   ]
  },
  {
   "cell_type": "code",
   "execution_count": null,
   "metadata": {},
   "outputs": [],
   "source": [
    "ymax, xmax = global_matrix.shape\n",
    "\n",
    "plt.figure(figsize=(16, 16), facecolor=\"white\")\n",
    "\n",
    "plt.subplot(6, 1, 1)\n",
    "plt.title(\"Decayed Score\")\n",
    "decayed_score_matrix = score_seq_list.to_midi_matrix(set_velocity=True)\n",
    "plt.imshow(decayed_score_matrix, cmap=\"gray\", aspect=\"auto\", origin=\"lower\", interpolation=\"nearest\")\n",
    "plt.ylabel(\"MIDI Key\")\n",
    "plt.xlabel(\"Frame\")\n",
    "plt.ylim([0, 127])\n",
    "plt.xlim([0, ymax-1])\n",
    "\n",
    "plt.subplot(6, 1, 2)\n",
    "plt.title(\"Decayed Performance\")\n",
    "decayed_perf_matrix = perf_seq_list.to_midi_matrix(set_velocity=True)\n",
    "plt.imshow(decayed_perf_matrix, cmap=\"gray\", aspect=\"auto\", origin=\"lower\", interpolation=\"nearest\")\n",
    "plt.ylabel(\"MIDI Key\")\n",
    "plt.xlabel(\"Frame\")\n",
    "plt.vlines(original_head, 0, 127)\n",
    "plt.vlines(original_tail, 0, 127)\n",
    "plt.ylim([0, 127])\n",
    "plt.xlim([0, xmax - 1])\n",
    "\n",
    "plt.subplot(6, 1, 3)\n",
    "plt.title(\"Decayed Score Repr. Sequence\")\n",
    "score_sequence_matrix = score_sequence.to_midi_matrix(set_velocity=True)\n",
    "plt.imshow(score_sequence_matrix, cmap=\"gray\", aspect=\"auto\", origin=\"lower\", interpolation=\"nearest\")\n",
    "plt.ylabel(\"MIDI Key\")\n",
    "plt.xlabel(\"Frame\")\n",
    "plt.ylim([0, 127])\n",
    "plt.xlim([0, ymax-1])\n",
    "\n",
    "plt.subplot(6, 1, 4)\n",
    "plt.title(\"Decayed Perf. Repr. Sequence\")\n",
    "perf_sequence_matrix = perf_sequence.to_midi_matrix(set_velocity=True)\n",
    "plt.imshow(perf_sequence_matrix, cmap=\"gray\", aspect=\"auto\", origin=\"lower\", interpolation=\"nearest\")\n",
    "plt.ylabel(\"MIDI Key\")\n",
    "plt.xlabel(\"Frame\")\n",
    "plt.vlines(original_head, 0, 127)\n",
    "plt.vlines(original_tail, 0, 127)\n",
    "plt.vlines(subsequence_head, 0, 127)\n",
    "plt.vlines(subsequence_tail, 0, 127)\n",
    "plt.ylim([0, 127])\n",
    "plt.xlim([0, xmax-1])\n",
    "\n",
    "plt.subplot(6, 1, 5)\n",
    "plt.title(\"Subsequence DTW Cost Matrix\")\n",
    "plt.imshow(subsequence_matrix, cmap=\"gray\", aspect=\"auto\", origin=\"lower\", interpolation=\"nearest\")\n",
    "plt.vlines(original_head, 0, ymax, \"r\")\n",
    "plt.vlines(original_tail, 0, ymax, \"r\")\n",
    "plt.plot(original_path[:, 0], original_path[:, 1], \"r\", label=\"original\")\n",
    "plt.vlines(global_head, 0, ymax, \"g\")\n",
    "plt.vlines(global_tail, 0, ymax, \"g\")\n",
    "plt.plot(global_path[:, 0], global_path[:, 1], \"g\", label=\"global\")\n",
    "plt.vlines(subsequence_head, 0, ymax, \"b\")\n",
    "plt.vlines(subsequence_tail, 0, ymax, \"b\")\n",
    "plt.plot(subsequence_path[:, 0], subsequence_path[:, 1], \"b\", label=\"subsequence\")\n",
    "plt.ylim([0, ymax - 1])\n",
    "plt.xlim([0, xmax - 1])\n",
    "plt.xlabel(\"Performance\")\n",
    "plt.ylabel(\"Score\")\n",
    "plt.legend()\n",
    "\n",
    "plt.subplot(6, 1, 6)\n",
    "delta_functions = subsequence_matrix[-1, :]\n",
    "ymax = np.max(delta_functions)\n",
    "plt.plot(np.arange(0, xmax), subsequence_matrix[-1, :])\n",
    "plt.vlines(original_tail, 0, ymax, \"r\", label=\"original\")\n",
    "plt.vlines(subsequence_tail, 0, ymax, \"b\", label=\"subsequence\")\n",
    "plt.legend()\n",
    "plt.xlim([0, xmax - 1])\n",
    "plt.ylim([0, ymax - 1])\n",
    "plt.xlabel(\"Delta functions\")\n",
    "\n",
    "plt.tight_layout()\n",
    "plt.show()"
   ]
  }
 ],
 "metadata": {
  "interpreter": {
   "hash": "61ae02ee63d492e5d0bc817a61fc444bb41ceb6091d6f384c2d1a09da7a921e3"
  },
  "kernelspec": {
   "display_name": "Python 3.8.10 64-bit ('.venv': venv)",
   "language": "python",
   "name": "python3"
  },
  "language_info": {
   "codemirror_mode": {
    "name": "ipython",
    "version": 3
   },
   "file_extension": ".py",
   "mimetype": "text/x-python",
   "name": "python",
   "nbconvert_exporter": "python",
   "pygments_lexer": "ipython3",
   "version": "3.8.10"
  },
  "orig_nbformat": 4
 },
 "nbformat": 4,
 "nbformat_minor": 2
}
