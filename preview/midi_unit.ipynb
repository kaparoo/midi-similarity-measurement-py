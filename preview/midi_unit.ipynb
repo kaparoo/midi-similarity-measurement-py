{
 "cells": [
  {
   "cell_type": "code",
   "execution_count": 1,
   "metadata": {},
   "outputs": [],
   "source": [
    "import sys\n",
    "sys.path.append(\"..\")\n",
    "\n",
    "import dataset\n",
    "import numpy as np\n",
    "import util\n",
    "\n",
    "from midi_unit import *"
   ]
  },
  {
   "cell_type": "code",
   "execution_count": 2,
   "metadata": {},
   "outputs": [
    {
     "name": "stdout",
     "output_type": "stream",
     "text": [
      "NUM_MIDI_KEYS=128(0 ~ 127)\n",
      "NUM_PITCHES=12\n"
     ]
    }
   ],
   "source": [
    "print(f\"{NUM_MIDI_KEYS=}({MIN_MIDI_KEY} ~ {MAX_MIDI_KEY})\")\n",
    "print(f\"{NUM_PITCHES=}\") "
   ]
  },
  {
   "cell_type": "code",
   "execution_count": 3,
   "metadata": {},
   "outputs": [
    {
     "name": "stdout",
     "output_type": "stream",
     "text": [
      "Note(1, 12.3) True\n",
      "Rest False\n",
      "True\n"
     ]
    }
   ],
   "source": [
    "# correct case\n",
    "note1 = MIDINote(1, 12.3)\n",
    "note2 = MIDINote(10, 1.23)\n",
    "note3 = MIDINote(100, 123)\n",
    "\n",
    "print(note1, note1.is_note())  # Note(1, 12.30), True\n",
    "print(MIDIRest(), MIDIRest().is_note())  # Rest, False\n",
    "print(MIDIRest() is MIDIRest())  # True (i.e., MIDIRest is singleton)"
   ]
  },
  {
   "cell_type": "code",
   "execution_count": 4,
   "metadata": {},
   "outputs": [
    {
     "ename": "ValueError",
     "evalue": "",
     "output_type": "error",
     "traceback": [
      "\u001b[1;31m---------------------------------------------------------------------------\u001b[0m",
      "\u001b[1;31mValueError\u001b[0m                                Traceback (most recent call last)",
      "\u001b[1;32m~\\AppData\\Local\\Temp/ipykernel_10612/1348320804.py\u001b[0m in \u001b[0;36m<module>\u001b[1;34m\u001b[0m\n\u001b[0;32m      1\u001b[0m \u001b[1;31m# error\u001b[0m\u001b[1;33m\u001b[0m\u001b[1;33m\u001b[0m\u001b[1;33m\u001b[0m\u001b[0m\n\u001b[1;32m----> 2\u001b[1;33m \u001b[0merror\u001b[0m \u001b[1;33m=\u001b[0m \u001b[0mMIDINote\u001b[0m\u001b[1;33m(\u001b[0m\u001b[1;36m1\u001b[0m\u001b[1;33m,\u001b[0m \u001b[1;33m-\u001b[0m\u001b[1;36m12.3\u001b[0m\u001b[1;33m)\u001b[0m  \u001b[1;31m# throw ValueError\u001b[0m\u001b[1;33m\u001b[0m\u001b[1;33m\u001b[0m\u001b[0m\n\u001b[0m",
      "\u001b[1;32md:\\git\\midi-similarity-measurement\\preview\\..\\midi_unit\\collections.py\u001b[0m in \u001b[0;36m__init__\u001b[1;34m(self, midi_key, velocity)\u001b[0m\n\u001b[0;32m     59\u001b[0m             \u001b[1;32mraise\u001b[0m \u001b[0mTypeError\u001b[0m\u001b[1;33m(\u001b[0m\u001b[1;33m)\u001b[0m\u001b[1;33m\u001b[0m\u001b[1;33m\u001b[0m\u001b[0m\n\u001b[0;32m     60\u001b[0m         \u001b[1;32melif\u001b[0m \u001b[0mvelocity\u001b[0m \u001b[1;33m<\u001b[0m \u001b[1;36m0.0\u001b[0m\u001b[1;33m:\u001b[0m\u001b[1;33m\u001b[0m\u001b[1;33m\u001b[0m\u001b[0m\n\u001b[1;32m---> 61\u001b[1;33m             \u001b[1;32mraise\u001b[0m \u001b[0mValueError\u001b[0m\u001b[1;33m(\u001b[0m\u001b[1;33m)\u001b[0m\u001b[1;33m\u001b[0m\u001b[1;33m\u001b[0m\u001b[0m\n\u001b[0m\u001b[0;32m     62\u001b[0m         \u001b[0mself\u001b[0m\u001b[1;33m.\u001b[0m\u001b[0m_midi_key\u001b[0m \u001b[1;33m=\u001b[0m \u001b[0mint\u001b[0m\u001b[1;33m(\u001b[0m\u001b[0mmidi_key\u001b[0m\u001b[1;33m)\u001b[0m\u001b[1;33m\u001b[0m\u001b[1;33m\u001b[0m\u001b[0m\n\u001b[0;32m     63\u001b[0m         \u001b[0mself\u001b[0m\u001b[1;33m.\u001b[0m\u001b[0m_velocity\u001b[0m \u001b[1;33m=\u001b[0m \u001b[0mfloat\u001b[0m\u001b[1;33m(\u001b[0m\u001b[0mvelocity\u001b[0m\u001b[1;33m)\u001b[0m\u001b[1;33m\u001b[0m\u001b[1;33m\u001b[0m\u001b[0m\n",
      "\u001b[1;31mValueError\u001b[0m: "
     ]
    }
   ],
   "source": [
    "# error\n",
    "error = MIDINote(1, -12.3)  # throw ValueError"
   ]
  },
  {
   "cell_type": "code",
   "execution_count": 5,
   "metadata": {},
   "outputs": [
    {
     "name": "stdout",
     "output_type": "stream",
     "text": [
      "[Note(1, 12.3), Note(10, 1.23), Note(100, 123.0)]\n"
     ]
    }
   ],
   "source": [
    "sequence1 = MIDIUnitSequence()\n",
    "sequence1.append(note1)\n",
    "sequence1.append(note2)\n",
    "sequence1.append(note3)\n",
    "\n",
    "sequence2 = MIDIUnitSequence()\n",
    "sequence2.append(MIDIRest())\n",
    "\n",
    "sequence3 = MIDIUnitSequence()\n",
    "sequence3.append(note3)\n",
    "sequence3.append(note2)\n",
    "sequence3.append(note1)\n",
    "\n",
    "print(sequence1)  # [Note(1, 12.30), Note(10, 1.23), Note(100, 123.00)]"
   ]
  },
  {
   "cell_type": "code",
   "execution_count": 6,
   "metadata": {},
   "outputs": [
    {
     "name": "stdout",
     "output_type": "stream",
     "text": [
      "[[Note(1, 12.3), Note(10, 1.23), Note(100, 123.0)], [Rest], [Note(100, 123.0), Note(10, 1.23), Note(1, 12.3)]]\n",
      "[[Rest], [Note(100, 123.0), Note(10, 1.23), Note(1, 12.3)]]\n"
     ]
    }
   ],
   "source": [
    "sequence_list = MIDIUnitSeqList()\n",
    "sequence_list.append(sequence1)\n",
    "sequence_list.append(sequence2)\n",
    "sequence_list.append(sequence3)\n",
    "\n",
    "# [[Note(1, 12.30), Note(10, 1.23), Note(100, 123.00)], [Rest], [Note(1, 12.30), Note(10, 1.23), Note(100, 123.00)]]\n",
    "print(sequence_list)\n",
    "\n",
    "#  [[Rest], [Note(1, 12.30), Note(10, 1.23), Note(100, 123.00)]]\n",
    "print(sequence_list[1:])"
   ]
  },
  {
   "cell_type": "code",
   "execution_count": 7,
   "metadata": {},
   "outputs": [],
   "source": [
    "generator = dataset.new_generator(root=\"../../dataset/newbie-dataset/\", slice_duration=5, mark_onset=False, shuffle=False)"
   ]
  },
  {
   "cell_type": "code",
   "execution_count": 8,
   "metadata": {},
   "outputs": [
    {
     "data": {
      "image/png": "[encoded data removed]",
      "text/plain": [
       "<Figure size 1152x648 with 2 Axes>"
      ]
     },
     "metadata": {},
     "output_type": "display_data"
    }
   ],
   "source": [
    "score, perf, (head, tail) = next(generator)\n",
    "util.plot_midi_matrices(score, perf, (head, tail))"
   ]
  },
  {
   "cell_type": "code",
   "execution_count": 9,
   "metadata": {},
   "outputs": [
    {
     "name": "stdout",
     "output_type": "stream",
     "text": [
      "[[Note(64, 1.0), Note(79, 1.0)], [Note(64, 1.0), Note(79, 1.0)], [Note(64, 1.0), Note(79, 1.0)], [Note(64, 1.0), Note(79, 1.0)], [Note(64, 1.0), Note(79, 1.0)], [Note(79, 1.0)], [Note(60, 1.0), Note(79, 1.0)], [Note(60, 1.0), Note(79, 1.0)], [Note(60, 1.0), Note(79, 1.0)], [Note(60, 1.0), Note(79, 1.0)], [Note(60, 1.0), Note(79, 1.0)], [Note(64, 1.0), Note(79, 1.0)], [Note(64, 1.0), Note(79, 1.0)], [Note(64, 1.0), Note(79, 1.0)], [Note(64, 1.0), Note(79, 1.0)], [Note(64, 1.0)], [Note(60, 1.0), Note(76, 1.0)], [Note(60, 1.0), Note(76, 1.0)], [Note(60, 1.0), Note(76, 1.0)], [Note(60, 1.0), Note(76, 1.0)], [Note(60, 1.0), Note(76, 1.0)], [Note(64, 1.0), Note(72, 1.0)], [Note(64, 1.0), Note(72, 1.0)], [Note(64, 1.0), Note(72, 1.0)], [Note(64, 1.0), Note(72, 1.0)], [Note(64, 1.0), Note(72, 1.0)], [Note(60, 1.0), Note(67, 1.0)], [Note(60, 1.0), Note(67, 1.0)], [Note(60, 1.0), Note(67, 1.0)], [Note(60, 1.0), Note(67, 1.0)], [Note(60, 1.0), Note(67, 1.0)], [Rest], [Note(64, 1.0), Note(67, 1.0)], [Note(64, 1.0), Note(67, 1.0)], [Note(64, 1.0), Note(67, 1.0)], [Note(64, 1.0), Note(67, 1.0)], [Rest], [Note(60, 1.0), Note(67, 1.0)], [Note(60, 1.0), Note(67, 1.0)], [Note(60, 1.0), Note(67, 1.0)], [Note(60, 1.0), Note(67, 1.0)], [Note(60, 1.0), Note(67, 1.0)], [Note(64, 1.0), Note(79, 1.0)], [Note(64, 1.0), Note(79, 1.0)], [Note(64, 1.0), Note(79, 1.0)], [Note(64, 1.0), Note(79, 1.0)], [Note(64, 1.0), Note(79, 1.0)], [Note(60, 1.0), Note(79, 1.0)], [Note(60, 1.0), Note(79, 1.0)], [Note(60, 1.0), Note(79, 1.0)], [Note(60, 1.0), Note(79, 1.0)], [Note(60, 1.0), Note(79, 1.0)], [Note(64, 1.0), Note(79, 1.0)], [Note(64, 1.0), Note(79, 1.0)], [Note(64, 1.0), Note(79, 1.0)], [Note(64, 1.0), Note(79, 1.0)], [Note(64, 1.0), Note(79, 1.0)], [Note(60, 1.0), Note(76, 1.0)], [Note(60, 1.0), Note(76, 1.0)], [Note(60, 1.0), Note(76, 1.0)], [Note(60, 1.0), Note(76, 1.0)], [Note(60, 1.0), Note(76, 1.0)], [Rest], [Note(64, 1.0), Note(72, 1.0)], [Note(64, 1.0), Note(72, 1.0)], [Note(64, 1.0), Note(74, 1.0)], [Note(64, 1.0), Note(74, 1.0)], [Note(74, 1.0)], [Note(60, 1.0), Note(76, 1.0)], [Note(60, 1.0), Note(76, 1.0)], [Note(60, 1.0), Note(77, 1.0)], [Note(60, 1.0), Note(77, 1.0)], [Note(60, 1.0), Note(77, 1.0)], [Note(64, 1.0), Note(79, 1.0)], [Note(64, 1.0), Note(79, 1.0)], [Note(64, 1.0), Note(81, 1.0)], [Note(64, 1.0), Note(81, 1.0)], [Note(64, 1.0), Note(81, 1.0)], [Note(60, 1.0), Note(83, 1.0)], [Note(60, 1.0), Note(83, 1.0)], [Note(60, 1.0), Note(83, 1.0)], [Note(60, 1.0), Note(84, 1.0)], [Note(60, 1.0), Note(84, 1.0)], [Note(65, 1.0), Note(83, 1.0)], [Note(65, 1.0), Note(83, 1.0)], [Note(65, 1.0), Note(83, 1.0)], [Note(65, 1.0), Note(83, 1.0)], [Note(65, 1.0), Note(83, 1.0)], [Note(60, 1.0), Note(81, 1.0)], [Note(60, 1.0), Note(81, 1.0)], [Note(60, 1.0), Note(81, 1.0)], [Note(60, 1.0), Note(81, 1.0)], [Note(60, 1.0), Note(81, 1.0)], [Rest], [Note(65, 1.0), Note(81, 1.0)], [Note(65, 1.0), Note(81, 1.0)], [Note(65, 1.0), Note(81, 1.0)], [Note(65, 1.0), Note(81, 1.0)], [Rest], [Note(60, 1.0), Note(81, 1.0)], [Note(60, 1.0), Note(81, 1.0)], [Note(60, 1.0), Note(81, 1.0)], [Note(60, 1.0), Note(81, 1.0)], [Note(60, 1.0), Note(81, 1.0)]]\n"
     ]
    }
   ],
   "source": [
    "score_sequence_list = MIDIUnitSeqList.from_midi_matrix(score)\n",
    "print(score_sequence_list)"
   ]
  },
  {
   "cell_type": "code",
   "execution_count": 10,
   "metadata": {},
   "outputs": [
    {
     "name": "stdout",
     "output_type": "stream",
     "text": [
      "score1==score2 = True\n"
     ]
    }
   ],
   "source": [
    "score2 = score_sequence_list.to_midi_matrix(set_velocity=False)\n",
    "print(f\"score1==score2 = {np.sum(score - score2) == 0}\")"
   ]
  },
  {
   "cell_type": "code",
   "execution_count": 11,
   "metadata": {},
   "outputs": [
    {
     "name": "stdout",
     "output_type": "stream",
     "text": [
      "[0.3025641  0.         0.01538462 0.         0.25641027 0.06153846\n",
      " 0.         0.23589744 0.         0.08717949 0.         0.04102564]\n",
      "[Note(79, 1.0), Note(79, 1.0), Note(79, 1.0), Note(79, 1.0), Note(79, 1.0), Note(79, 1.0), Note(79, 1.0), Note(79, 1.0), Note(79, 1.0), Note(79, 1.0), Note(79, 1.0), Note(79, 1.0), Note(79, 1.0), Note(79, 1.0), Note(79, 1.0), Note(64, 1.0), Note(76, 1.0), Note(76, 1.0), Note(76, 1.0), Note(76, 1.0), Note(76, 1.0), Note(72, 1.0), Note(72, 1.0), Note(72, 1.0), Note(72, 1.0), Note(72, 1.0), Note(67, 1.0), Note(67, 1.0), Note(67, 1.0), Note(67, 1.0), Note(67, 1.0), Rest, Note(67, 1.0), Note(67, 1.0), Note(67, 1.0), Note(67, 1.0), Rest, Note(67, 1.0), Note(67, 1.0), Note(67, 1.0), Note(67, 1.0), Note(67, 1.0), Note(79, 1.0), Note(79, 1.0), Note(79, 1.0), Note(79, 1.0), Note(79, 1.0), Note(79, 1.0), Note(79, 1.0), Note(79, 1.0), Note(79, 1.0), Note(79, 1.0), Note(79, 1.0), Note(79, 1.0), Note(79, 1.0), Note(79, 1.0), Note(79, 1.0), Note(76, 1.0), Note(76, 1.0), Note(76, 1.0), Note(76, 1.0), Note(76, 1.0), Rest, Note(72, 1.0), Note(72, 1.0), Note(74, 1.0), Note(74, 1.0), Note(74, 1.0), Note(76, 1.0), Note(76, 1.0), Note(77, 1.0), Note(77, 1.0), Note(77, 1.0), Note(79, 1.0), Note(79, 1.0), Note(81, 1.0), Note(81, 1.0), Note(81, 1.0), Note(83, 1.0), Note(83, 1.0), Note(83, 1.0), Note(84, 1.0), Note(84, 1.0), Note(83, 1.0), Note(83, 1.0), Note(83, 1.0), Note(83, 1.0), Note(83, 1.0), Note(81, 1.0), Note(81, 1.0), Note(81, 1.0), Note(81, 1.0), Note(81, 1.0), Rest, Note(81, 1.0), Note(81, 1.0), Note(81, 1.0), Note(81, 1.0), Rest, Note(81, 1.0), Note(81, 1.0), Note(81, 1.0), Note(81, 1.0), Note(81, 1.0)]\n"
     ]
    }
   ],
   "source": [
    "print(score_sequence_list.pitch_histogram)\n",
    "print(score_sequence_list.repr_sequence)"
   ]
  },
  {
   "cell_type": "code",
   "execution_count": 12,
   "metadata": {},
   "outputs": [
    {
     "name": "stdout",
     "output_type": "stream",
     "text": [
      "[[Rest]]\n",
      "[0. 0. 0. 0. 0. 0. 0. 0. 0. 0. 0. 0.]\n"
     ]
    }
   ],
   "source": [
    "# pitch_histogram nan test\n",
    "empty_sequence_list = MIDIUnitSeqList.from_midi_matrix(np.zeros((128, 1)))\n",
    "print(empty_sequence_list)  # [[Rest]]\n",
    "print(empty_sequence_list.pitch_histogram)  # [0. 0. 0. 0. 0. 0. 0. 0. 0. 0. 0. 0.]"
   ]
  }
 ],
 "metadata": {
  "interpreter": {
   "hash": "61ae02ee63d492e5d0bc817a61fc444bb41ceb6091d6f384c2d1a09da7a921e3"
  },
  "kernelspec": {
   "display_name": "Python 3.8.10 64-bit ('.venv': venv)",
   "language": "python",
   "name": "python3"
  },
  "language_info": {
   "codemirror_mode": {
    "name": "ipython",
    "version": 3
   },
   "file_extension": ".py",
   "mimetype": "text/x-python",
   "name": "python",
   "nbconvert_exporter": "python",
   "pygments_lexer": "ipython3",
   "version": "3.8.10"
  },
  "orig_nbformat": 4
 },
 "nbformat": 4,
 "nbformat_minor": 2
}
