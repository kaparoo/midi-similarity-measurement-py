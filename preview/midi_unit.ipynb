{
 "cells": [
  {
   "cell_type": "code",
   "execution_count": 1,
   "metadata": {},
   "outputs": [],
   "source": [
    "import sys\n",
    "sys.path.append(\"..\")\n",
    "\n",
    "import dataset\n",
    "import numpy as np\n",
    "import util\n",
    "\n",
    "from midi import *"
   ]
  },
  {
   "cell_type": "code",
   "execution_count": 2,
   "metadata": {},
   "outputs": [
    {
     "name": "stdout",
     "output_type": "stream",
     "text": [
      "NUM_MIDI_KEYS=128(0 ~ 127)\n",
      "NUM_PITCH_CLASSES=12\n"
     ]
    }
   ],
   "source": [
    "print(f\"{NUM_MIDI_KEYS=}({MIN_MIDI_KEY} ~ {MAX_MIDI_KEY})\")\n",
    "print(f\"{NUM_PITCH_CLASSES=}\") "
   ]
  },
  {
   "cell_type": "code",
   "execution_count": 3,
   "metadata": {},
   "outputs": [
    {
     "name": "stdout",
     "output_type": "stream",
     "text": [
      "Note(1, 12.30) True\n",
      "Rest False\n"
     ]
    }
   ],
   "source": [
    "# correct case\n",
    "note1 = MIDIUnit.new_note(1, 12.3)\n",
    "note2 = MIDIUnit.new_note(10, 1.23)\n",
    "note3 = MIDIUnit.new_note(100, 123)\n",
    "\n",
    "print(note1, note1.is_note())        # Note(1, 12.30), True\n",
    "print(MIDIRest, MIDIRest.is_note())  # Rest, False"
   ]
  },
  {
   "cell_type": "code",
   "execution_count": 4,
   "metadata": {},
   "outputs": [],
   "source": [
    "# error\n",
    "# error = MIDIUnit.new_note(1, -12.3)  # throw ValueError"
   ]
  },
  {
   "cell_type": "code",
   "execution_count": 5,
   "metadata": {},
   "outputs": [
    {
     "name": "stdout",
     "output_type": "stream",
     "text": [
      "[Note(1, 12.30), Note(10, 1.23), Note(100, 123.00)]\n"
     ]
    }
   ],
   "source": [
    "sequence1 = MIDIUnitSequence()\n",
    "sequence1.append(note1)\n",
    "sequence1.append(note2)\n",
    "sequence1.append(note3)\n",
    "\n",
    "sequence2 = MIDIUnitSequence()\n",
    "sequence2.append(MIDIRest)\n",
    "\n",
    "sequence3 = MIDIUnitSequence()\n",
    "sequence3.append(note3)\n",
    "sequence3.append(note2)\n",
    "sequence3.append(note1)\n",
    "\n",
    "print(sequence1)  # [Note(1, 12.30), Note(10, 1.23), Note(100, 123.00)]"
   ]
  },
  {
   "cell_type": "code",
   "execution_count": 6,
   "metadata": {},
   "outputs": [
    {
     "name": "stdout",
     "output_type": "stream",
     "text": [
      "[[Note(1, 12.30), Note(10, 1.23), Note(100, 123.00)], [Rest], [Note(100, 123.00), Note(10, 1.23), Note(1, 12.30)]]\n",
      "[[Rest], [Note(100, 123.00), Note(10, 1.23), Note(1, 12.30)]]\n"
     ]
    }
   ],
   "source": [
    "sequence_list = MIDIUnitSequenceList()\n",
    "sequence_list.append(sequence1)\n",
    "sequence_list.append(sequence2)\n",
    "sequence_list.append(sequence3)\n",
    "\n",
    "# [[Note(1, 12.30), Note(10, 1.23), Note(100, 123.00)], [Rest], [Note(1, 12.30), Note(10, 1.23), Note(100, 123.00)]]\n",
    "print(sequence_list)\n",
    "\n",
    "#  [[Rest], [Note(1, 12.30), Note(10, 1.23), Note(100, 123.00)]]\n",
    "print(sequence_list[1:])"
   ]
  },
  {
   "cell_type": "code",
   "execution_count": 7,
   "metadata": {},
   "outputs": [],
   "source": [
    "generator = dataset.new_generator(root=\"../../dataset/newbie-dataset/\", slice_duration=5, note_scale=1.00, mark_onset=False, shuffle=False)"
   ]
  },
  {
   "cell_type": "code",
   "execution_count": 8,
   "metadata": {},
   "outputs": [
    {
     "data": {
      "image/png": "[encoded data removed]",
      "text/plain": [
       "<Figure size 1152x648 with 2 Axes>"
      ]
     },
     "metadata": {},
     "output_type": "display_data"
    }
   ],
   "source": [
    "score, perf, (head, tail) = next(generator)\n",
    "util.plot_midi_matrices(score, perf, (head, tail))"
   ]
  },
  {
   "cell_type": "code",
   "execution_count": 9,
   "metadata": {},
   "outputs": [
    {
     "name": "stdout",
     "output_type": "stream",
     "text": [
      "[[Note(64, 1.00), Note(79, 1.00)], [Note(64, 1.00), Note(79, 1.00)], [Note(64, 1.00), Note(79, 1.00)], [Note(64, 1.00), Note(79, 1.00)], [Note(64, 1.00), Note(79, 1.00)], [Note(79, 1.00)], [Note(60, 1.00), Note(79, 1.00)], [Note(60, 1.00), Note(79, 1.00)], [Note(60, 1.00), Note(79, 1.00)], [Note(60, 1.00), Note(79, 1.00)], [Note(60, 1.00), Note(79, 1.00)], [Note(64, 1.00), Note(79, 1.00)], [Note(64, 1.00), Note(79, 1.00)], [Note(64, 1.00), Note(79, 1.00)], [Note(64, 1.00), Note(79, 1.00)], [Note(64, 1.00)], [Note(60, 1.00), Note(76, 1.00)], [Note(60, 1.00), Note(76, 1.00)], [Note(60, 1.00), Note(76, 1.00)], [Note(60, 1.00), Note(76, 1.00)], [Note(60, 1.00), Note(76, 1.00)], [Note(64, 1.00), Note(72, 1.00)], [Note(64, 1.00), Note(72, 1.00)], [Note(64, 1.00), Note(72, 1.00)], [Note(64, 1.00), Note(72, 1.00)], [Note(64, 1.00), Note(72, 1.00)], [Note(60, 1.00), Note(67, 1.00)], [Note(60, 1.00), Note(67, 1.00)], [Note(60, 1.00), Note(67, 1.00)], [Note(60, 1.00), Note(67, 1.00)], [Note(60, 1.00), Note(67, 1.00)], [Rest], [Note(64, 1.00), Note(67, 1.00)], [Note(64, 1.00), Note(67, 1.00)], [Note(64, 1.00), Note(67, 1.00)], [Note(64, 1.00), Note(67, 1.00)], [Rest], [Note(60, 1.00), Note(67, 1.00)], [Note(60, 1.00), Note(67, 1.00)], [Note(60, 1.00), Note(67, 1.00)], [Note(60, 1.00), Note(67, 1.00)], [Note(60, 1.00), Note(67, 1.00)], [Note(64, 1.00), Note(79, 1.00)], [Note(64, 1.00), Note(79, 1.00)], [Note(64, 1.00), Note(79, 1.00)], [Note(64, 1.00), Note(79, 1.00)], [Note(64, 1.00), Note(79, 1.00)], [Note(60, 1.00), Note(79, 1.00)], [Note(60, 1.00), Note(79, 1.00)], [Note(60, 1.00), Note(79, 1.00)], [Note(60, 1.00), Note(79, 1.00)], [Note(60, 1.00), Note(79, 1.00)], [Note(64, 1.00), Note(79, 1.00)], [Note(64, 1.00), Note(79, 1.00)], [Note(64, 1.00), Note(79, 1.00)], [Note(64, 1.00), Note(79, 1.00)], [Note(64, 1.00), Note(79, 1.00)], [Note(60, 1.00), Note(76, 1.00)], [Note(60, 1.00), Note(76, 1.00)], [Note(60, 1.00), Note(76, 1.00)], [Note(60, 1.00), Note(76, 1.00)], [Note(60, 1.00), Note(76, 1.00)], [Rest], [Note(64, 1.00), Note(72, 1.00)], [Note(64, 1.00), Note(72, 1.00)], [Note(64, 1.00), Note(74, 1.00)], [Note(64, 1.00), Note(74, 1.00)], [Note(74, 1.00)], [Note(60, 1.00), Note(76, 1.00)], [Note(60, 1.00), Note(76, 1.00)], [Note(60, 1.00), Note(77, 1.00)], [Note(60, 1.00), Note(77, 1.00)], [Note(60, 1.00), Note(77, 1.00)], [Note(64, 1.00), Note(79, 1.00)], [Note(64, 1.00), Note(79, 1.00)], [Note(64, 1.00), Note(81, 1.00)], [Note(64, 1.00), Note(81, 1.00)], [Note(64, 1.00), Note(81, 1.00)], [Note(60, 1.00), Note(83, 1.00)], [Note(60, 1.00), Note(83, 1.00)], [Note(60, 1.00), Note(83, 1.00)], [Note(60, 1.00), Note(84, 1.00)], [Note(60, 1.00), Note(84, 1.00)], [Note(65, 1.00), Note(83, 1.00)], [Note(65, 1.00), Note(83, 1.00)], [Note(65, 1.00), Note(83, 1.00)], [Note(65, 1.00), Note(83, 1.00)], [Note(65, 1.00), Note(83, 1.00)], [Note(60, 1.00), Note(81, 1.00)], [Note(60, 1.00), Note(81, 1.00)], [Note(60, 1.00), Note(81, 1.00)], [Note(60, 1.00), Note(81, 1.00)], [Note(60, 1.00), Note(81, 1.00)], [Rest], [Note(65, 1.00), Note(81, 1.00)], [Note(65, 1.00), Note(81, 1.00)], [Note(65, 1.00), Note(81, 1.00)], [Note(65, 1.00), Note(81, 1.00)], [Rest], [Note(60, 1.00), Note(81, 1.00)], [Note(60, 1.00), Note(81, 1.00)], [Note(60, 1.00), Note(81, 1.00)]]\n"
     ]
    }
   ],
   "source": [
    "score_sequence_list = MIDIUnitSequenceList.from_midi_matrix(score)\n",
    "print(score_sequence_list)"
   ]
  },
  {
   "cell_type": "code",
   "execution_count": 10,
   "metadata": {},
   "outputs": [
    {
     "name": "stdout",
     "output_type": "stream",
     "text": [
      "score1==score2 = True\n"
     ]
    }
   ],
   "source": [
    "score2 = score_sequence_list.to_midi_matrix(set_velocity=False)\n",
    "print(f\"score1==score2 = {np.sum(score - score2) == 0}\")"
   ]
  },
  {
   "cell_type": "code",
   "execution_count": 11,
   "metadata": {},
   "outputs": [
    {
     "name": "stdout",
     "output_type": "stream",
     "text": [
      "[0.2984293  0.         0.01570681 0.         0.2617801  0.06282722\n",
      " 0.         0.2408377  0.         0.07853403 0.         0.04188482]\n",
      "[Note(79, 1.00), Note(79, 1.00), Note(79, 1.00), Note(79, 1.00), Note(79, 1.00), Note(79, 1.00), Note(79, 1.00), Note(79, 1.00), Note(79, 1.00), Note(79, 1.00), Note(79, 1.00), Note(79, 1.00), Note(79, 1.00), Note(79, 1.00), Note(79, 1.00), Note(64, 1.00), Note(76, 1.00), Note(76, 1.00), Note(76, 1.00), Note(76, 1.00), Note(76, 1.00), Note(72, 1.00), Note(72, 1.00), Note(72, 1.00), Note(72, 1.00), Note(72, 1.00), Note(67, 1.00), Note(67, 1.00), Note(67, 1.00), Note(67, 1.00), Note(67, 1.00), Rest, Note(67, 1.00), Note(67, 1.00), Note(67, 1.00), Note(67, 1.00), Rest, Note(67, 1.00), Note(67, 1.00), Note(67, 1.00), Note(67, 1.00), Note(67, 1.00), Note(79, 1.00), Note(79, 1.00), Note(79, 1.00), Note(79, 1.00), Note(79, 1.00), Note(79, 1.00), Note(79, 1.00), Note(79, 1.00), Note(79, 1.00), Note(79, 1.00), Note(79, 1.00), Note(79, 1.00), Note(79, 1.00), Note(79, 1.00), Note(79, 1.00), Note(76, 1.00), Note(76, 1.00), Note(76, 1.00), Note(76, 1.00), Note(76, 1.00), Rest, Note(72, 1.00), Note(72, 1.00), Note(74, 1.00), Note(74, 1.00), Note(74, 1.00), Note(76, 1.00), Note(76, 1.00), Note(77, 1.00), Note(77, 1.00), Note(77, 1.00), Note(79, 1.00), Note(79, 1.00), Note(81, 1.00), Note(81, 1.00), Note(81, 1.00), Note(83, 1.00), Note(83, 1.00), Note(83, 1.00), Note(84, 1.00), Note(84, 1.00), Note(83, 1.00), Note(83, 1.00), Note(83, 1.00), Note(83, 1.00), Note(83, 1.00), Note(81, 1.00), Note(81, 1.00), Note(81, 1.00), Note(81, 1.00), Note(81, 1.00), Rest, Note(81, 1.00), Note(81, 1.00), Note(81, 1.00), Note(81, 1.00), Rest, Note(81, 1.00), Note(81, 1.00), Note(81, 1.00)]\n"
     ]
    }
   ],
   "source": [
    "print(score_sequence_list.pitch_histogram)\n",
    "print(score_sequence_list.repr_sequence)"
   ]
  },
  {
   "cell_type": "code",
   "execution_count": 12,
   "metadata": {},
   "outputs": [
    {
     "name": "stdout",
     "output_type": "stream",
     "text": [
      "[[Rest]]\n",
      "[0. 0. 0. 0. 0. 0. 0. 0. 0. 0. 0. 0.]\n"
     ]
    }
   ],
   "source": [
    "# pitch_histogram nan test\n",
    "empty_sequence_list = MIDIUnitSequenceList.from_midi_matrix(np.zeros((128, 1)))\n",
    "print(empty_sequence_list)  # [[Rest]]\n",
    "print(empty_sequence_list.pitch_histogram)  # [0. 0. 0. 0. 0. 0. 0. 0. 0. 0. 0. 0.]"
   ]
  }
 ],
 "metadata": {
  "interpreter": {
   "hash": "61ae02ee63d492e5d0bc817a61fc444bb41ceb6091d6f384c2d1a09da7a921e3"
  },
  "kernelspec": {
   "display_name": "Python 3.8.10 64-bit ('.venv': venv)",
   "language": "python",
   "name": "python3"
  },
  "language_info": {
   "codemirror_mode": {
    "name": "ipython",
    "version": 3
   },
   "file_extension": ".py",
   "mimetype": "text/x-python",
   "name": "python",
   "nbconvert_exporter": "python",
   "pygments_lexer": "ipython3",
   "version": "3.8.10"
  },
  "orig_nbformat": 4
 },
 "nbformat": 4,
 "nbformat_minor": 2
}
