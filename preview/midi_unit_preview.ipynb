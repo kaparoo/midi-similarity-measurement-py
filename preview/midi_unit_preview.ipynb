{
 "cells": [
  {
   "cell_type": "code",
   "execution_count": 1,
   "metadata": {},
   "outputs": [],
   "source": [
    "import sys\n",
    "sys.path.append(\"..\")"
   ]
  },
  {
   "cell_type": "code",
   "execution_count": 2,
   "metadata": {},
   "outputs": [],
   "source": [
    "import dataset\n",
    "import matplotlib.pyplot as plt\n",
    "import midi\n",
    "import numpy as np"
   ]
  },
  {
   "cell_type": "code",
   "execution_count": 3,
   "metadata": {},
   "outputs": [
    {
     "name": "stdout",
     "output_type": "stream",
     "text": [
      "midi.NUM_MIDI_KEYS=128(0 ~ 127)\n",
      "midi.NUM_PITCH_CLASSES=12\n"
     ]
    }
   ],
   "source": [
    "print(f\"{midi.NUM_MIDI_KEYS=}({midi.MIN_MIDI_KEY} ~ {midi.MAX_MIDI_KEY})\")\n",
    "print(f\"{midi.NUM_PITCH_CLASSES=}\")"
   ]
  },
  {
   "cell_type": "code",
   "execution_count": 4,
   "metadata": {},
   "outputs": [
    {
     "name": "stdout",
     "output_type": "stream",
     "text": [
      "Note(1, 12.30) True\n",
      "Rest False\n"
     ]
    }
   ],
   "source": [
    "# correct case\n",
    "note1 = midi.MIDIUnit.new_note(1, 12.3)\n",
    "note2 = midi.MIDIUnit.new_note(10, 1.23)\n",
    "note3 = midi.MIDIUnit.new_note(100, 123)\n",
    "\n",
    "print(note1, note1.is_note())        # Note(1, 12.30), True\n",
    "print(midi.MIDIRest, midi.MIDIRest.is_note())  # Rest, False"
   ]
  },
  {
   "cell_type": "code",
   "execution_count": 5,
   "metadata": {},
   "outputs": [
    {
     "ename": "ValueError",
     "evalue": "(midi_key=1, velocity=-12.30)",
     "output_type": "error",
     "traceback": [
      "\u001b[1;31m---------------------------------------------------------------------------\u001b[0m",
      "\u001b[1;31mValueError\u001b[0m                                Traceback (most recent call last)",
      "\u001b[1;32m~\\AppData\\Local\\Temp/ipykernel_11568/3659945350.py\u001b[0m in \u001b[0;36m<module>\u001b[1;34m\u001b[0m\n\u001b[0;32m      1\u001b[0m \u001b[1;31m# error\u001b[0m\u001b[1;33m\u001b[0m\u001b[1;33m\u001b[0m\u001b[1;33m\u001b[0m\u001b[0m\n\u001b[1;32m----> 2\u001b[1;33m \u001b[0merror\u001b[0m \u001b[1;33m=\u001b[0m \u001b[0mmidi\u001b[0m\u001b[1;33m.\u001b[0m\u001b[0mMIDIUnit\u001b[0m\u001b[1;33m.\u001b[0m\u001b[0mnew_note\u001b[0m\u001b[1;33m(\u001b[0m\u001b[1;36m1\u001b[0m\u001b[1;33m,\u001b[0m \u001b[1;33m-\u001b[0m\u001b[1;36m12.3\u001b[0m\u001b[1;33m)\u001b[0m  \u001b[1;31m# throw ValueError\u001b[0m\u001b[1;33m\u001b[0m\u001b[1;33m\u001b[0m\u001b[0m\n\u001b[0m",
      "\u001b[1;32md:\\git\\midi-similarity-measurement-py\\preview\\..\\midi\\unit.py\u001b[0m in \u001b[0;36mnew_note\u001b[1;34m(midi_key, velocity)\u001b[0m\n\u001b[0;32m     30\u001b[0m     \u001b[1;32mdef\u001b[0m \u001b[0mnew_note\u001b[0m\u001b[1;33m(\u001b[0m\u001b[0mmidi_key\u001b[0m\u001b[1;33m:\u001b[0m \u001b[0mint\u001b[0m\u001b[1;33m,\u001b[0m \u001b[0mvelocity\u001b[0m\u001b[1;33m:\u001b[0m \u001b[0mfloat\u001b[0m\u001b[1;33m)\u001b[0m \u001b[1;33m->\u001b[0m \u001b[1;34m\"MIDIUnit\"\u001b[0m\u001b[1;33m:\u001b[0m\u001b[1;33m\u001b[0m\u001b[1;33m\u001b[0m\u001b[0m\n\u001b[0;32m     31\u001b[0m         \u001b[1;32mif\u001b[0m \u001b[1;32mnot\u001b[0m \u001b[1;33m(\u001b[0m\u001b[0mMAX_MIDI_KEY\u001b[0m \u001b[1;33m>=\u001b[0m \u001b[0mmidi_key\u001b[0m \u001b[1;33m>=\u001b[0m \u001b[0mMIN_MIDI_KEY\u001b[0m \u001b[1;32mand\u001b[0m \u001b[0mvelocity\u001b[0m \u001b[1;33m>\u001b[0m \u001b[1;36m0\u001b[0m\u001b[1;33m)\u001b[0m\u001b[1;33m:\u001b[0m\u001b[1;33m\u001b[0m\u001b[1;33m\u001b[0m\u001b[0m\n\u001b[1;32m---> 32\u001b[1;33m             \u001b[1;32mraise\u001b[0m \u001b[0mValueError\u001b[0m\u001b[1;33m(\u001b[0m\u001b[1;34mf\"({midi_key=:d}, {velocity=:.2f})\"\u001b[0m\u001b[1;33m)\u001b[0m\u001b[1;33m\u001b[0m\u001b[1;33m\u001b[0m\u001b[0m\n\u001b[0m\u001b[0;32m     33\u001b[0m         \u001b[1;32mreturn\u001b[0m \u001b[0mMIDIUnit\u001b[0m\u001b[1;33m(\u001b[0m\u001b[0mmidi_key\u001b[0m\u001b[1;33m,\u001b[0m \u001b[0mvelocity\u001b[0m\u001b[1;33m)\u001b[0m\u001b[1;33m\u001b[0m\u001b[1;33m\u001b[0m\u001b[0m\n\u001b[0;32m     34\u001b[0m \u001b[1;33m\u001b[0m\u001b[0m\n",
      "\u001b[1;31mValueError\u001b[0m: (midi_key=1, velocity=-12.30)"
     ]
    }
   ],
   "source": [
    "# error\n",
    "error = midi.MIDIUnit.new_note(1, -12.3)  # throw ValueError"
   ]
  },
  {
   "cell_type": "code",
   "execution_count": 6,
   "metadata": {},
   "outputs": [
    {
     "name": "stdout",
     "output_type": "stream",
     "text": [
      "[Note(1, 12.30), Note(10, 1.23), Note(100, 123.00)]\n"
     ]
    }
   ],
   "source": [
    "sequence1 = midi.MIDIUnitSequence()\n",
    "sequence1.append(note1)\n",
    "sequence1.append(note2)\n",
    "sequence1.append(note3)\n",
    "\n",
    "sequence2 = midi.MIDIUnitSequence()\n",
    "sequence2.append(midi.MIDIRest)\n",
    "\n",
    "sequence3 = midi.MIDIUnitSequence()\n",
    "sequence3.append(note3)\n",
    "sequence3.append(note2)\n",
    "sequence3.append(note1)\n",
    "\n",
    "print(sequence1)  # [Note(1, 12.30), Note(10, 1.23), Note(100, 123.00)]"
   ]
  },
  {
   "cell_type": "code",
   "execution_count": 7,
   "metadata": {},
   "outputs": [
    {
     "name": "stdout",
     "output_type": "stream",
     "text": [
      "[[Note(1, 12.30), Note(10, 1.23), Note(100, 123.00)], [Rest], [Note(100, 123.00), Note(10, 1.23), Note(1, 12.30)]]\n",
      "[[Rest], [Note(100, 123.00), Note(10, 1.23), Note(1, 12.30)]]\n"
     ]
    }
   ],
   "source": [
    "sequence_list = midi.MIDIUnitSequenceList()\n",
    "sequence_list.append(sequence1)\n",
    "sequence_list.append(sequence2)\n",
    "sequence_list.append(sequence3)\n",
    "\n",
    "# [[Note(1, 12.30), Note(10, 1.23), Note(100, 123.00)], [Rest], [Note(1, 12.30), Note(10, 1.23), Note(100, 123.00)]]\n",
    "print(sequence_list)\n",
    "\n",
    "#  [[Rest], [Note(1, 12.30), Note(10, 1.23), Note(100, 123.00)]]\n",
    "print(sequence_list[1:])"
   ]
  },
  {
   "cell_type": "code",
   "execution_count": 8,
   "metadata": {},
   "outputs": [],
   "source": [
    "generator = dataset.new_generator(root=\"../../dataset/newbie-dataset/\", shuffle=False, note_scale=0.90)"
   ]
  },
  {
   "cell_type": "code",
   "execution_count": 9,
   "metadata": {},
   "outputs": [],
   "source": [
    "def display(score, perf, head, tail) -> None:\n",
    "    plt.figure(figsize=(16, 9))\n",
    "    \n",
    "    plt.subplot(2, 1, 1)\n",
    "    plt.title(\"Score\")\n",
    "    plt.imshow(score, cmap=\"gray\", aspect=\"auto\", origin=\"lower\", interpolation=\"nearest\")\n",
    "    plt.ylabel(\"MIDI Key\")\n",
    "    plt.xlabel(\"Frame\")\n",
    "    ylim, _ = score.shape\n",
    "    plt.ylim([0, ylim])\n",
    "\n",
    "\n",
    "    plt.subplot(2, 1, 2)\n",
    "    plt.title(\"Performance\")\n",
    "    plt.imshow(perf, cmap=\"gray\", aspect=\"auto\", origin=\"lower\", interpolation=\"nearest\")\n",
    "    plt.ylabel(\"MIDI Key\")\n",
    "    plt.xlabel(\"Frame\")\n",
    "    ylim, _ = perf.shape\n",
    "    plt.vlines(head, 0, ylim, label=\"head\")\n",
    "    plt.vlines(tail, 0, ylim, label=\"tail\")\n",
    "    plt.legend()\n",
    "    plt.ylim([0, ylim])\n",
    "\n",
    "    plt.show()"
   ]
  },
  {
   "cell_type": "code",
   "execution_count": 10,
   "metadata": {},
   "outputs": [
    {
     "data": {
      "image/png": "[encoded data removed]",
      "text/plain": [
       "<Figure size 1152x648 with 2 Axes>"
      ]
     },
     "metadata": {
      "needs_background": "light"
     },
     "output_type": "display_data"
    }
   ],
   "source": [
    "score, perf, (head, tail) = next(generator)\n",
    "display(score, perf, head, tail)"
   ]
  },
  {
   "cell_type": "code",
   "execution_count": 11,
   "metadata": {},
   "outputs": [
    {
     "name": "stdout",
     "output_type": "stream",
     "text": [
      "[[Note(64, 1.00), Note(79, 1.00)], [Note(64, 1.00), Note(79, 1.00)], [Note(64, 1.00), Note(79, 1.00)], [Note(64, 1.00), Note(79, 1.00)], [Note(64, 1.00), Note(79, 1.00)], [Note(79, 1.00)], [Note(60, 1.00), Note(79, 1.00)], [Note(60, 1.00), Note(79, 1.00)], [Note(60, 1.00), Note(79, 1.00)], [Note(60, 1.00), Note(79, 1.00)], [Note(79, 1.00)], [Note(64, 1.00), Note(79, 1.00)], [Note(64, 1.00), Note(79, 1.00)], [Note(64, 1.00), Note(79, 1.00)], [Note(64, 1.00)], [Rest], [Note(60, 1.00), Note(76, 1.00)], [Note(60, 1.00), Note(76, 1.00)], [Note(60, 1.00), Note(76, 1.00)], [Note(60, 1.00), Note(76, 1.00)], [Rest], [Note(64, 1.00), Note(72, 1.00)], [Note(64, 1.00), Note(72, 1.00)], [Note(64, 1.00), Note(72, 1.00)], [Note(64, 1.00), Note(72, 1.00)], [Note(64, 1.00), Note(72, 1.00)], [Note(60, 1.00), Note(67, 1.00)], [Note(60, 1.00), Note(67, 1.00)]]\n"
     ]
    }
   ],
   "source": [
    "score_sequence_list = midi.MIDIUnitSequenceList.from_midi_matrix(score)\n",
    "print(score_sequence_list)"
   ]
  },
  {
   "cell_type": "code",
   "execution_count": 12,
   "metadata": {},
   "outputs": [
    {
     "data": {
      "text/plain": [
       "0.0"
      ]
     },
     "execution_count": 12,
     "metadata": {},
     "output_type": "execute_result"
    }
   ],
   "source": [
    "score2 = score_sequence_list.to_midi_matrix()\n",
    "np.sum(score - score2)"
   ]
  },
  {
   "cell_type": "code",
   "execution_count": 13,
   "metadata": {},
   "outputs": [
    {
     "name": "stdout",
     "output_type": "stream",
     "text": [
      "[0.30612245 0.         0.         0.         0.36734694 0.\n",
      " 0.         0.3265306  0.         0.         0.         0.        ]\n",
      "[Note(79, 1.00), Note(79, 1.00), Note(79, 1.00), Note(79, 1.00), Note(79, 1.00), Note(79, 1.00), Note(79, 1.00), Note(79, 1.00), Note(79, 1.00), Note(79, 1.00), Note(79, 1.00), Note(79, 1.00), Note(79, 1.00), Note(79, 1.00), Note(64, 1.00), Rest, Note(76, 1.00), Note(76, 1.00), Note(76, 1.00), Note(76, 1.00), Rest, Note(72, 1.00), Note(72, 1.00), Note(72, 1.00), Note(72, 1.00), Note(72, 1.00), Note(67, 1.00), Note(67, 1.00)]\n"
     ]
    }
   ],
   "source": [
    "print(score_sequence_list.pitch_histogram)\n",
    "print(score_sequence_list.repr_unit_sequence)"
   ]
  }
 ],
 "metadata": {
  "interpreter": {
   "hash": "61ae02ee63d492e5d0bc817a61fc444bb41ceb6091d6f384c2d1a09da7a921e3"
  },
  "kernelspec": {
   "display_name": "Python 3.8.10 64-bit ('.venv': venv)",
   "language": "python",
   "name": "python3"
  },
  "language_info": {
   "codemirror_mode": {
    "name": "ipython",
    "version": 3
   },
   "file_extension": ".py",
   "mimetype": "text/x-python",
   "name": "python",
   "nbconvert_exporter": "python",
   "pygments_lexer": "ipython3",
   "version": "3.8.10"
  },
  "orig_nbformat": 4
 },
 "nbformat": 4,
 "nbformat_minor": 2
}
