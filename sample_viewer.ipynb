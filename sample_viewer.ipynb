{
 "cells": [
  {
   "cell_type": "code",
   "execution_count": null,
   "metadata": {},
   "outputs": [],
   "source": [
    "import matplotlib.pyplot as plt\n",
    "import numpy as np\n",
    "import pandas as pd\n",
    "import pathlib"
   ]
  },
  {
   "cell_type": "code",
   "execution_count": null,
   "metadata": {},
   "outputs": [],
   "source": [
    "save_root = \"./save_asap\"\n",
    "save_root = pathlib.Path(save_root)\n",
    "if not save_root.exists():\n",
    "    raise FileExistsError(save_root)\n",
    "elif not save_root.is_dir():\n",
    "    raise FileExistsError(save_root)\n",
    "\n",
    "scatter_2d_path = save_root / \"scatter_2d.png\"\n",
    "if not scatter_2d_path.exists():\n",
    "    raise FileExistsError(scatter_2d_path)\n",
    "elif not scatter_2d_path.is_file():\n",
    "    raise FileExistsError(scatter_2d_path)\n",
    "\n",
    "scatter_3d_path = save_root / \"scatter_3d.png\"\n",
    "if not scatter_3d_path.exists():\n",
    "    raise FileExistsError(scatter_3d_path)\n",
    "elif not scatter_3d_path.is_file():\n",
    "    raise FileExistsError(scatter_3d_path)\n",
    "\n",
    "pos_csv_path = save_root / \"pos.csv\"\n",
    "if not pos_csv_path.exists():\n",
    "    raise FileExistsError(pos_csv_path)\n",
    "elif not pos_csv_path.is_file():\n",
    "    raise FileExistsError(pos_csv_path)\n",
    "pos_csv = pd.read_csv(pos_csv_path)\n",
    "\n",
    "neg_csv_path = save_root / \"neg.csv\"\n",
    "if not neg_csv_path.exists():\n",
    "    raise FileExistsError(neg_csv_path)\n",
    "elif not neg_csv_path.is_file():\n",
    "    raise FileExistsError(neg_csv_path)\n",
    "neg_csv = pd.read_csv(neg_csv_path)\n",
    "\n",
    "npz_root = save_root / \"npz\"\n",
    "if not npz_root.exists():\n",
    "    raise FileExistsError(npz_root)\n",
    "elif not npz_root.is_dir():\n",
    "    raise FileExistsError(npz_root)\n",
    "pos_npz_paths = list(npz_root.glob(\"*pos*\"))\n",
    "neg_npz_paths = list(npz_root.glob(\"*neg*\"))\n",
    "\n",
    "num_pos_npz = len(pos_npz_paths)\n",
    "num_neg_npz = len(neg_npz_paths)\n",
    "\n",
    "print(f\"# of pos_*.npz files: {num_pos_npz}\")\n",
    "print(f\"# of neg_*.npz files: {num_neg_npz}\")\n",
    "\n",
    "fig, ax = plt.subplots(1,2, figsize=(20, 10))\n",
    "ax[0].axis(\"off\")\n",
    "ax[0].imshow(plt.imread(scatter_2d_path))\n",
    "ax[1].axis(\"off\")\n",
    "ax[1].imshow(plt.imread(scatter_3d_path))\n",
    "plt.show()\n",
    "plt.clf()"
   ]
  },
  {
   "cell_type": "code",
   "execution_count": null,
   "metadata": {},
   "outputs": [],
   "source": [
    "histogram_min, histogram_max = (0, 0.05)\n",
    "timewarping_min, timewarping_max = (0, 10)\n",
    "\n",
    "print(histogram_min, histogram_max)"
   ]
  },
  {
   "cell_type": "code",
   "execution_count": null,
   "metadata": {},
   "outputs": [],
   "source": [
    "selected_pos = pos_csv.loc[pos_csv[\"Histogram distance\"] < histogram_max]\n",
    "selected_pos"
   ]
  }
 ],
 "metadata": {
  "interpreter": {
   "hash": "6b941a73e39ad5b6d75c9de32d8349d9c37685575ffd58a15534490e6472e926"
  },
  "kernelspec": {
   "display_name": "Python 3.6.13 64-bit ('tensorflow23_py36': conda)",
   "language": "python",
   "name": "python3"
  },
  "language_info": {
   "codemirror_mode": {
    "name": "ipython",
    "version": 3
   },
   "file_extension": ".py",
   "mimetype": "text/x-python",
   "name": "python",
   "nbconvert_exporter": "python",
   "pygments_lexer": "ipython3",
   "version": "3.6.13"
  },
  "orig_nbformat": 4
 },
 "nbformat": 4,
 "nbformat_minor": 2
}
