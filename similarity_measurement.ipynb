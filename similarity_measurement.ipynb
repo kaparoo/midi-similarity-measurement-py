{
 "cells": [
  {
   "cell_type": "code",
   "execution_count": 1,
   "metadata": {},
   "outputs": [],
   "source": [
    "import csv\n",
    "import dataset_loader\n",
    "import matplotlib.pyplot as plt\n",
    "import numpy as np\n",
    "import pathlib\n",
    "import function\n",
    "import similarity\n",
    "\n",
    "from sklearn.svm import SVC  # Support Vector Classifier\n",
    "from sklearn.model_selection import train_test_split\n",
    "\n",
    "from typing import List, Tuple\n",
    "\n",
    "from tqdm import tqdm"
   ]
  },
  {
   "cell_type": "code",
   "execution_count": 2,
   "metadata": {},
   "outputs": [],
   "source": [
    "DATASET_ROOT=\"../../sabana/dataset/asap-dataset\"\n",
    "# DATASET_ROOT=\"../../sabana/dataset/newbie-dataset\""
   ]
  },
  {
   "cell_type": "code",
   "execution_count": 3,
   "metadata": {},
   "outputs": [],
   "source": [
    "SLICE_DURATION = 5 # sec\n",
    "EXPANSION_RATE = 1.1\n",
    "FRAME_PER_SECOND = 20 # Hz\n",
    "NUM_SAMPLES = 500\n",
    "QUEUE_SIZE = 8\n",
    "ONSET_WEIGHT = 10.0\n",
    "SETTLE_FRAME = 10\n",
    "COMPENSATION_FRAME = 0\n",
    "\n",
    "SAVE_ROOT = pathlib.Path(\"./save\")\n",
    "\n",
    "if not SAVE_ROOT.exists():\n",
    "    SAVE_ROOT.mkdir(exist_ok=True, parents=True)\n"
   ]
  },
  {
   "cell_type": "code",
   "execution_count": 4,
   "metadata": {},
   "outputs": [],
   "source": [
    "gen = dataset_loader.spawn(dataset_root=DATASET_ROOT, slice_duration=SLICE_DURATION, expansion_rate=EXPANSION_RATE, frame_per_second=FRAME_PER_SECOND, shuffle=True)\n",
    "\n",
    "pos_similarities: List[Tuple[float, float, float]] = []\n",
    "neg_similarities: List[Tuple[float, float, float]] = []\n",
    "\n",
    "prev_perfs: List[np.ndarray] = [None] * QUEUE_SIZE"
   ]
  },
  {
   "cell_type": "code",
   "execution_count": 5,
   "metadata": {},
   "outputs": [],
   "source": [
    "decay_fn = function.exponential_decay_factory(SETTLE_FRAME)\n",
    "unit_metric = function.onset_nearest_unit_factory(SETTLE_FRAME, COMPENSATION_FRAME)\n",
    "cost_metric = function.compare_cost_fn"
   ]
  },
  {
   "cell_type": "code",
   "execution_count": 6,
   "metadata": {},
   "outputs": [
    {
     "name": "stderr",
     "output_type": "stream",
     "text": [
      "  0%|          | 0/500 [00:00<?, ?it/s]/home/kaparoo/anaconda3/envs/tensorflow23_py36/lib/python3.6/site-packages/madmom/io/midi.py:366: UserWarning: ignoring MIDI message note_on channel=0 note=70 velocity=0 time=23.788798654166648\n",
      "  warnings.warn('ignoring MIDI message %s' % msg)\n",
      "/home/kaparoo/anaconda3/envs/tensorflow23_py36/lib/python3.6/site-packages/madmom/io/midi.py:366: UserWarning: ignoring MIDI message note_on channel=0 note=70 velocity=0 time=349.81767129582545\n",
      "  warnings.warn('ignoring MIDI message %s' % msg)\n",
      "/home/kaparoo/anaconda3/envs/tensorflow23_py36/lib/python3.6/site-packages/madmom/io/midi.py:366: UserWarning: ignoring MIDI message note_on channel=0 note=58 velocity=0 time=352.03989529582554\n",
      "  warnings.warn('ignoring MIDI message %s' % msg)\n",
      " 16%|█▋        | 82/500 [00:34<04:11,  1.66it/s]"
     ]
    }
   ],
   "source": [
    "with open(SAVE_ROOT / \"pos.csv\", \"w\", encoding=\"utf-8\") as f1, \\\n",
    "     open(SAVE_ROOT / \"neg.csv\", \"w\", encoding=\"utf-8\") as f2:\n",
    "    pos_csvfile = csv.writer(f1, delimiter=\",\", quotechar=\"|\")\n",
    "    pos_csvfile.writerow([\"Euclidean Similarity\", \"Timewarping Similarity\", \"Length ratio\"])\n",
    "\n",
    "    neg_csvfile = csv.writer(f2, delimiter=\",\", quotechar=\"|\")\n",
    "    neg_csvfile.writerow([\"Euclidean Similarity\", \"Timewarping Similarity\", \"Length ratio\"])\n",
    "\n",
    "    for idx in tqdm(range(NUM_SAMPLES)):\n",
    "        score, perf, _ = gen.__next__()\n",
    "        score_len = score.shape[-1]\n",
    "        perf_len = perf.shape[-1]\n",
    "\n",
    "        pos_euclidean_similarity, pos_timewarping_similarity, _ = similarity.score_similarity(score, perf,\n",
    "                                                                                                    onset_weight=ONSET_WEIGHT,\n",
    "                                                                                                    decay_fn=decay_fn,\n",
    "                                                                                                    unit_metric=unit_metric,\n",
    "                                                                                                    cost_metric=cost_metric)\n",
    "        pos_length_ratio = perf_len / (score_len + 1e-7)\n",
    "\n",
    "        pos_csvfile.writerow([pos_euclidean_similarity, pos_timewarping_similarity, pos_length_ratio])\n",
    "        pos_similarities.append((pos_euclidean_similarity, pos_timewarping_similarity, pos_length_ratio))\n",
    "        \n",
    "        if isinstance(prev_perfs[0], np.ndarray):\n",
    "            prev_perf = prev_perfs[0]\n",
    "            prev_perf_len = prev_perf.shape[-1]\n",
    "            neg_euclidean_similarity, neg_timewarping_similarity, _ = similarity.score_similarity(score, prev_perf,\n",
    "                                                                                                  onset_weight=ONSET_WEIGHT,\n",
    "                                                                                                  decay_fn=decay_fn,\n",
    "                                                                                                  unit_metric=unit_metric,\n",
    "                                                                                                  cost_metric=cost_metric) \n",
    "            neg_length_ratio = prev_perf_len / (score_len + 1e-7)\n",
    "            \n",
    "            neg_csvfile.writerow([neg_euclidean_similarity, neg_timewarping_similarity, neg_length_ratio])\n",
    "            neg_similarities.append((neg_euclidean_similarity, neg_timewarping_similarity, neg_length_ratio))\n",
    "        prev_perfs.pop(0)\n",
    "        prev_perfs.append(perf)"
   ]
  },
  {
   "cell_type": "code",
   "execution_count": 36,
   "metadata": {},
   "outputs": [
    {
     "name": "stdout",
     "output_type": "stream",
     "text": [
      "(500, 3)\n",
      "(492, 3)\n"
     ]
    }
   ],
   "source": [
    "pos_similarities = np.array(pos_similarities)\n",
    "neg_similarities = np.array(neg_similarities)\n",
    "print(pos_similarities.shape)\n",
    "print(neg_similarities.shape)"
   ]
  },
  {
   "cell_type": "code",
   "execution_count": 37,
   "metadata": {},
   "outputs": [
    {
     "data": {
      "text/plain": [
       "()"
      ]
     },
     "execution_count": 37,
     "metadata": {},
     "output_type": "execute_result"
    }
   ],
   "source": [
    "pos_euclidean_similarity.shape"
   ]
  },
  {
   "cell_type": "code",
   "execution_count": 38,
   "metadata": {},
   "outputs": [
    {
     "data": {
      "image/png": "[encoded data removed]",
      "text/plain": [
       "<Figure size 432x288 with 1 Axes>"
      ]
     },
     "metadata": {
      "needs_background": "light"
     },
     "output_type": "display_data"
    },
    {
     "data": {
      "text/plain": [
       "<Figure size 432x288 with 0 Axes>"
      ]
     },
     "metadata": {},
     "output_type": "display_data"
    }
   ],
   "source": [
    "fig = plt.figure()\n",
    "ax = fig.gca()\n",
    "ax.set_xlabel(\"Euclidean Similarity\")\n",
    "ax.set_ylabel(\"Timewarping Similarity\")\n",
    "ax.scatter(pos_similarities[:, 0], pos_similarities[:, 1], c=\"k\", label=\"Positive\")\n",
    "ax.scatter(neg_similarities[:, 0], neg_similarities[:, 1], c=\"w\", edgecolors=\"k\", label=\"Negative\")\n",
    "plt.legend()\n",
    "plt.show()\n",
    "plt.clf()"
   ]
  },
  {
   "cell_type": "code",
   "execution_count": 39,
   "metadata": {},
   "outputs": [
    {
     "data": {
      "image/png": "[encoded data removed]",
      "text/plain": [
       "<Figure size 432x288 with 1 Axes>"
      ]
     },
     "metadata": {
      "needs_background": "light"
     },
     "output_type": "display_data"
    },
    {
     "data": {
      "text/plain": [
       "<Figure size 432x288 with 0 Axes>"
      ]
     },
     "metadata": {},
     "output_type": "display_data"
    }
   ],
   "source": [
    "fig = plt.figure()\n",
    "ax = fig.gca(projection=\"3d\")\n",
    "ax.set_xlabel(\"Euclidean similarity\")\n",
    "ax.set_ylabel(\"Timewarping similarity\")\n",
    "ax.set_zlabel(\"Length ratio\")\n",
    "ax.scatter(pos_similarities[:,0], pos_similarities[:,1], pos_similarities[:,2], c=\"k\", label=\"Positive\")\n",
    "ax.scatter(neg_similarities[:,0], neg_similarities[:,1], neg_similarities[:,2], c=\"w\", edgecolors=\"k\", label=\"Negative\")\n",
    "plt.legend()\n",
    "plt.show()\n",
    "\n",
    "plt.clf()"
   ]
  },
  {
   "cell_type": "code",
   "execution_count": 40,
   "metadata": {},
   "outputs": [
    {
     "name": "stdout",
     "output_type": "stream",
     "text": [
      "(992, 3)\n",
      "(992,)\n"
     ]
    }
   ],
   "source": [
    "x_total = np.concatenate([pos_similarities, neg_similarities])\n",
    "y_total = np.array([+1 for _ in range(len(pos_similarities))] + [-1 for _ in range(len(neg_similarities))])\n",
    "print(x_total.shape)\n",
    "print(y_total.shape)\n"
   ]
  },
  {
   "cell_type": "code",
   "execution_count": 41,
   "metadata": {},
   "outputs": [
    {
     "name": "stdout",
     "output_type": "stream",
     "text": [
      "(793, 3)\n",
      "(793,)\n",
      "(199, 3)\n",
      "(199,)\n"
     ]
    }
   ],
   "source": [
    "x_train, x_test, y_train, y_test = train_test_split(x_total, y_total, test_size=0.2, stratify=y_total, random_state=42)\n",
    "print(x_train.shape)\n",
    "print(y_train.shape)\n",
    "print(x_test.shape)\n",
    "print(y_test.shape)"
   ]
  },
  {
   "cell_type": "code",
   "execution_count": 42,
   "metadata": {},
   "outputs": [
    {
     "name": "stdout",
     "output_type": "stream",
     "text": [
      "Accuracy: 0.8391959798994975\n"
     ]
    }
   ],
   "source": [
    "svm_linear = SVC(kernel=\"linear\")\n",
    "svm_linear.fit(x_train, y_train)\n",
    "print(\"Accuracy:\", svm_linear.score(x_test, y_test))"
   ]
  },
  {
   "cell_type": "code",
   "execution_count": 43,
   "metadata": {},
   "outputs": [
    {
     "name": "stdout",
     "output_type": "stream",
     "text": [
      "Accuracy: 0.8391959798994975\n"
     ]
    }
   ],
   "source": [
    "svm_poly3 = SVC(kernel=\"poly\", degree=3)\n",
    "svm_poly3.fit(x_train, y_train)\n",
    "print(\"Accuracy:\", svm_poly3.score(x_test, y_test))"
   ]
  },
  {
   "cell_type": "code",
   "execution_count": 44,
   "metadata": {},
   "outputs": [
    {
     "name": "stdout",
     "output_type": "stream",
     "text": [
      "Accuracy: 0.8442211055276382\n"
     ]
    }
   ],
   "source": [
    "svm_poly5 = SVC(kernel=\"poly\", degree=5)\n",
    "svm_poly5.fit(x_train, y_train)\n",
    "print(\"Accuracy:\", svm_poly5.score(x_test, y_test))"
   ]
  },
  {
   "cell_type": "code",
   "execution_count": 45,
   "metadata": {},
   "outputs": [
    {
     "name": "stdout",
     "output_type": "stream",
     "text": [
      "Accuracy: 0.8492462311557789\n"
     ]
    }
   ],
   "source": [
    "svm_poly7 = SVC(kernel=\"poly\", degree=7)\n",
    "svm_poly7.fit(x_train, y_train)\n",
    "print(\"Accuracy:\", svm_poly7.score(x_test, y_test))"
   ]
  },
  {
   "cell_type": "code",
   "execution_count": 46,
   "metadata": {},
   "outputs": [
    {
     "name": "stdout",
     "output_type": "stream",
     "text": [
      "Accuracy: 0.8391959798994975\n"
     ]
    }
   ],
   "source": [
    "svm_rbf = SVC(kernel=\"rbf\")\n",
    "svm_rbf.fit(x_train, y_train)\n",
    "print(\"Accuracy:\", svm_rbf.score(x_test, y_test))"
   ]
  },
  {
   "cell_type": "code",
   "execution_count": 47,
   "metadata": {},
   "outputs": [
    {
     "data": {
      "text/plain": [
       "SVC(kernel='linear')"
      ]
     },
     "execution_count": 47,
     "metadata": {},
     "output_type": "execute_result"
    }
   ],
   "source": [
    "svm_linear_ = SVC(kernel=\"linear\")\n",
    "svm_linear_.fit(x_train[:, :2], y_train)"
   ]
  },
  {
   "cell_type": "code",
   "execution_count": null,
   "metadata": {},
   "outputs": [],
   "source": [
    "svm_linear_.coef_, svm_linear_.intercept_"
   ]
  },
  {
   "cell_type": "code",
   "execution_count": null,
   "metadata": {},
   "outputs": [],
   "source": [
    "fig = plt.figure()\n",
    "ax = fig.gca()\n",
    "ax.set_xlabel(\"Euclidean similarity\")\n",
    "ax.set_ylabel(\"Timewarping similarity\")\n",
    "ax.scatter(pos_similarities[:,0], pos_similarities[:,1], label=\"Positive\")\n",
    "ax.scatter(neg_similarities[:,0], neg_similarities[:,1], label=\"Negative\")\n",
    "xlim = ax.get_xlim()\n",
    "ylim = ax.get_ylim()\n",
    "\n",
    "x_ = np.linspace(xlim[0], xlim[1])\n",
    "y_ =  -(svm_linear_.coef_[0][0]*x_ + svm_linear_.intercept_[0])/svm_linear_.coef_[0][1]\n",
    "\n",
    "ax.plot(x_, y_)\n",
    "\n",
    "plt.legend()\n",
    "plt.show()\n",
    "\n",
    "plt.clf()"
   ]
  },
  {
   "cell_type": "code",
   "execution_count": null,
   "metadata": {},
   "outputs": [],
   "source": [
    "import numpy as np\n",
    "import matplotlib.pyplot as plt\n",
    "import matplotlib.animation as animation"
   ]
  },
  {
   "cell_type": "code",
   "execution_count": null,
   "metadata": {},
   "outputs": [],
   "source": [
    "# num_frames = min(len(pos_similarities), len(neg_similarities))\n",
    "num_frames = 100\n",
    "\n",
    "fig, ax = plt.subplots()\n",
    "\n",
    "ims = []\n",
    "for i in tqdm(range(2, num_frames)):\n",
    "    pos_sub = pos_similarities[:i]\n",
    "    neg_sub = neg_similarities[:i]\n",
    "\n",
    "    x_sub = np.concatenate([pos_sub, neg_sub])\n",
    "    y_sub = np.array([+1 for _ in range(len(pos_sub))] + [-1 for _ in range(len(neg_sub))])\n",
    "    \n",
    "\n",
    "    svm = SVC(kernel=\"linear\")\n",
    "    svm.fit(x_sub, y_sub)\n",
    "    \n",
    "    xlim_ = ax.get_xlim()\n",
    "    w = svm.coef_[0]           # w consists of 2 elements\n",
    "    b = svm.intercept_[0]\n",
    "    x_ = np.linspace(0.0, 0.6)\n",
    "    y_ = -(w[0] * x_ - b) / w[1]\n",
    "\n",
    "    im1 = ax.scatter(pos_sub[:, 0], pos_sub[:, 1], pos_sub[:, 2], 'g', label=\"positive\")\n",
    "    im1 = ax.scatter(neg_sub[:, 0], neg_sub[:, 1], neg_sub[:, 2], 'r', label=\"negative\")\n",
    "    im1 = ax.plot(x_, y_, \"k\", label=\"decision_boundary\")\n",
    "    ims.append(im1)\n",
    "\n",
    "ani = animation.ArtistAnimation(fig, ims, interval=100)\n",
    "ani.save(SAVE_ROOT / 'ani.gif', writer='imagemagick')\n",
    "plt.show()"
   ]
  },
  {
   "cell_type": "code",
   "execution_count": null,
   "metadata": {},
   "outputs": [],
   "source": [
    "num_frames = min(len(pos_similarities), len(neg_similarities))\n",
    "svm_argv = {\"kernel\": \"linear\"}\n",
    "\n",
    "with open(SAVE_ROOT / \"svm.csv\", \"w\", encoding=\"utf-8\") as f:\n",
    "    svm_csvfile = csv.writer(f, delimiter=\",\", quotechar=\"|\")\n",
    "    svm_csvfile.writerow([\"coef_x\", \"ceof_y\", \"bias\"])\n",
    "    for i in tqdm(range(3, num_frames)):\n",
    "        pos_sub = pos_similarities[:i]\n",
    "        neg_sub = neg_similarities[:i]\n",
    "\n",
    "        x_sub = np.concatenate([pos_sub, neg_sub])\n",
    "        y_sub = np.array([+1 for _ in range(len(pos_sub))] + [-1 for _ in range(len(neg_sub))])\n",
    "\n",
    "        svc = SVC(**svm_argv)\n",
    "        svc.fit(x_sub, y_sub)\n",
    "\n",
    "        coef_x = svc.coef_[0][0] / svc.coef_[0][2]\n",
    "        coef_y = svc.coef_[0][1] / svc.coef_[0][2]\n",
    "        bias = svc.intercept_[0] / svc.coef_[0][2]\n",
    "\n",
    "\n",
    "        svm_csvfile.writerow([coef_x, coef_y, bias])"
   ]
  }
 ],
 "metadata": {
  "interpreter": {
   "hash": "6b941a73e39ad5b6d75c9de32d8349d9c37685575ffd58a15534490e6472e926"
  },
  "kernelspec": {
   "display_name": "Python 3.6.13 64-bit ('tensorflow23_py36': conda)",
   "language": "python",
   "name": "python3"
  },
  "language_info": {
   "codemirror_mode": {
    "name": "ipython",
    "version": 3
   },
   "file_extension": ".py",
   "mimetype": "text/x-python",
   "name": "python",
   "nbconvert_exporter": "python",
   "pygments_lexer": "ipython3",
   "version": "3.6.13"
  },
  "orig_nbformat": 4
 },
 "nbformat": 4,
 "nbformat_minor": 2
}
