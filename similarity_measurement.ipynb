{
 "cells": [
  {
   "cell_type": "code",
   "execution_count": null,
   "metadata": {},
   "outputs": [],
   "source": [
    "import csv\n",
    "import dataset\n",
    "import matplotlib.pyplot as plt\n",
    "import midi_unit as midi\n",
    "import numpy as np\n",
    "import pathlib\n",
    "import similarity\n",
    "import tqdm.notebook as tqdm\n",
    "from typing import List, Tuple"
   ]
  },
  {
   "cell_type": "code",
   "execution_count": null,
   "metadata": {},
   "outputs": [],
   "source": [
    "# For asap-dataset\n",
    "# DATASET_ROOT = \"../dataset/asap-dataset\"\n",
    "# SCORE_PREFIX = \"midi_score\""
   ]
  },
  {
   "cell_type": "code",
   "execution_count": null,
   "metadata": {},
   "outputs": [],
   "source": [
    "# For newbie-dataset\n",
    "DATASET_ROOT = \"../dataset/newbie-dataset\"\n",
    "SCORE_PREFIX = \"score\""
   ]
  },
  {
   "cell_type": "code",
   "execution_count": null,
   "metadata": {},
   "outputs": [],
   "source": [
    "FRAME_PER_SECOND = 20  # Hz\n",
    "SLICE_DURATION = 3  # sec\n",
    "EXPANSION_RATE = 1.5\n",
    "SETTLING_FRAME = 2\n",
    "SUBSEQUENCE_DTW = True\n",
    "\n",
    "NUM_SAMPLES = 100\n",
    "QUEUE_SIZE = 8\n",
    "\n",
    "SAVE_ROOT = pathlib.Path(\"./save\")\n",
    "if not SAVE_ROOT.exists():\n",
    "    SAVE_ROOT.mkdir(exist_ok=True, parents=True)\n",
    "\n",
    "generator = dataset.new_generator(root=DATASET_ROOT,\n",
    "                                  frame_per_second=FRAME_PER_SECOND,\n",
    "                                  slice_duration=SLICE_DURATION,\n",
    "                                  expansion_rate=EXPANSION_RATE,\n",
    "                                  score_prefix=SCORE_PREFIX,\n",
    "                                  mark_onset=True, shuffle=True)\n",
    "\n",
    "# pos/neg-similarities: [histogram_distance, timewarping_distance, length_ratio]\n",
    "pos_similarities: List[Tuple[float, float, float]] = []\n",
    "neg_similarities: List[Tuple[float, float, float]] = []\n",
    "\n",
    "prev_perfs: List[np.ndarray] = [None] * QUEUE_SIZE\n",
    "\n",
    "decay_fn = midi.make_decay_fn(\"linear\", settling_frame=SETTLING_FRAME)"
   ]
  },
  {
   "cell_type": "code",
   "execution_count": null,
   "metadata": {},
   "outputs": [],
   "source": [
    "with open(SAVE_ROOT / \"pos.csv\", \"w\", encoding=\"utf-8\") as f1, \\\n",
    "     open(SAVE_ROOT / \"neg.csv\", \"w\", encoding=\"utf-8\") as f2:\n",
    "    pos_csvfile = csv.writer(f1, delimiter=\",\", quotechar=\"|\")\n",
    "    pos_csvfile.writerow([\"Histogram distance\", \"Timewarping distance\", \"Length ratio\"])\n",
    "\n",
    "    neg_csvfile = csv.writer(f2, delimiter=\",\", quotechar=\"|\")\n",
    "    neg_csvfile.writerow([\"Histogram distance\", \"Timewarping distance\", \"Length ratio\"])\n",
    "\n",
    "    count = 0\n",
    "    \n",
    "    execution_times = {\n",
    "        \"midi_matrix\": 0.0,\n",
    "        \"timewarping\": 0.0,\n",
    "        \"euclidean\": 0.0,\n",
    "        \"total\": 0.0,\n",
    "    }\n",
    "\n",
    "    try:\n",
    "        for idx in tqdm.trange(NUM_SAMPLES, desc=\"Measuring similarities...\"):\n",
    "            score, perf, _ = next(generator)\n",
    "            score_len = score.shape[-1]\n",
    "            perf_len = perf.shape[-1]\n",
    "            pos_histogram_distance, pos_timewarping_distance, pos_execution_times = similarity.measure(score, perf,\n",
    "                                                                                                       decay_fn=decay_fn,\n",
    "                                                                                                       subsequence=SUBSEQUENCE_DTW,\n",
    "                                                                                                       measure_time=True)\n",
    "            pos_length_ratio = perf_len / score_len\n",
    "            pos_csvfile.writerow([pos_histogram_distance, pos_timewarping_distance, pos_length_ratio])\n",
    "            pos_similarities.append((pos_histogram_distance, pos_timewarping_distance, pos_length_ratio))\n",
    "\n",
    "            for k, v in pos_execution_times.items():\n",
    "                execution_times[k] += v\n",
    "                count += 1\n",
    "\n",
    "            if isinstance(prev_perfs[0], np.ndarray):\n",
    "                prev_perf = prev_perfs[0]\n",
    "                prev_perf_len = prev_perf.shape[-1]\n",
    "                neg_histogram_distance, neg_timewarping_distance = similarity.measure(score, prev_perf,\n",
    "                                                                                      decay_fn=decay_fn,\n",
    "                                                                                      subsequence=SUBSEQUENCE_DTW)\n",
    "                neg_length_ratio = prev_perf_len / score_len\n",
    "                neg_csvfile.writerow([neg_histogram_distance, neg_timewarping_distance, neg_length_ratio])\n",
    "                neg_similarities.append((neg_histogram_distance, neg_timewarping_distance, neg_length_ratio))\n",
    "\n",
    "            prev_perfs.pop(0)\n",
    "            prev_perfs.append(perf)\n",
    "    except StopIteration:\n",
    "        print(f\"Loading dataset is finished at iteration {idx}.\")"
   ]
  },
  {
   "cell_type": "code",
   "execution_count": null,
   "metadata": {},
   "outputs": [],
   "source": [
    "execution_times"
   ]
  },
  {
   "cell_type": "code",
   "execution_count": null,
   "metadata": {},
   "outputs": [],
   "source": [
    "pos_similarities = np.array(pos_similarities)\n",
    "neg_similarities = np.array(neg_similarities)"
   ]
  },
  {
   "cell_type": "code",
   "execution_count": null,
   "metadata": {},
   "outputs": [],
   "source": [
    "fig = plt.figure(\"scatter_2d\", facecolor=\"white\")\n",
    "ax = fig.gca()\n",
    "ax.set_title(f\"expansion rate: {EXPANSION_RATE}, settling frame: {SETTLING_FRAME}\")\n",
    "ax.set_xlabel(\"Histogram distance\")\n",
    "ax.set_ylabel(\"Timewarping distance\")\n",
    "ax.scatter(pos_similarities[:, 0], pos_similarities[:, 1], c=\"k\", label=\"Positive\")\n",
    "ax.scatter(neg_similarities[:, 0], neg_similarities[:, 1], c=\"w\", edgecolors=\"k\", label=\"Negative\")\n",
    "plt.legend()\n",
    "plt.show()"
   ]
  },
  {
   "cell_type": "code",
   "execution_count": null,
   "metadata": {},
   "outputs": [],
   "source": [
    "fig = plt.figure(\"scatter_3d\", facecolor=\"white\")\n",
    "ax = fig.gca(projection=\"3d\")\n",
    "ax.set_title(f\"expansion rate: {EXPANSION_RATE}, settling frame: {SETTLING_FRAME}\")\n",
    "ax.set_xlabel(\"Histogram distance\")\n",
    "ax.set_ylabel(\"Timewarping distance\")\n",
    "ax.set_zlabel(\"Length ratio\")\n",
    "ax.scatter(pos_similarities[:,0], pos_similarities[:,1], pos_similarities[:,2], c=\"k\", label=\"Positive\")\n",
    "ax.scatter(neg_similarities[:,0], neg_similarities[:,1], neg_similarities[:,2], c=\"w\", edgecolors=\"k\", label=\"Negative\")\n",
    "plt.legend()\n",
    "plt.show()"
   ]
  }
 ],
 "metadata": {
  "interpreter": {
   "hash": "61ae02ee63d492e5d0bc817a61fc444bb41ceb6091d6f384c2d1a09da7a921e3"
  },
  "kernelspec": {
   "display_name": "Python 3.8.10 64-bit ('.venv': venv)",
   "language": "python",
   "name": "python3"
  },
  "language_info": {
   "codemirror_mode": {
    "name": "ipython",
    "version": 3
   },
   "file_extension": ".py",
   "mimetype": "text/x-python",
   "name": "python",
   "nbconvert_exporter": "python",
   "pygments_lexer": "ipython3",
   "version": "3.8.10"
  },
  "orig_nbformat": 4
 },
 "nbformat": 4,
 "nbformat_minor": 2
}
