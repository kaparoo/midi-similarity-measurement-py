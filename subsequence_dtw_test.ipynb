{
 "cells": [
  {
   "cell_type": "code",
   "execution_count": 1,
   "metadata": {},
   "outputs": [],
   "source": [
    "import dataset_loader\n",
    "import matplotlib.pyplot as plt\n",
    "import midi\n",
    "import numpy as np\n",
    "import tqdm\n",
    "import similarity\n",
    "import util"
   ]
  },
  {
   "cell_type": "code",
   "execution_count": 2,
   "metadata": {},
   "outputs": [],
   "source": [
    "DATASET_ROOT=\"../../sabana/dataset/asap-dataset\"\n",
    "\n",
    "SLICE_DURATION = 3 # sec\n",
    "EXPANSION_RATE = 2.5\n",
    "FRAME_PER_SECOND = 20 # Hz\n",
    "SETTLING_FRAME = 6\n",
    "COMPENSATION_FRAME = 0"
   ]
  },
  {
   "cell_type": "code",
   "execution_count": null,
   "metadata": {},
   "outputs": [],
   "source": [
    "gen = dataset_loader.spawn(dataset_root=DATASET_ROOT, \n",
    "                           slice_duration=SLICE_DURATION,\n",
    "                           expansion_rate=EXPANSION_RATE,\n",
    "                           frame_per_second=FRAME_PER_SECOND,\n",
    "                           shuffle=True)"
   ]
  },
  {
   "cell_type": "code",
   "execution_count": null,
   "metadata": {},
   "outputs": [],
   "source": [
    "score, perf, (original_head, original_tail) = next(gen)\n",
    "util.plot_midi_matrices(score, perf, (original_head, original_tail), title=\"Before decaying\")"
   ]
  },
  {
   "cell_type": "code",
   "execution_count": null,
   "metadata": {},
   "outputs": [],
   "source": [
    "decayed_score = util.process_decay_to_midi_matrix(score, SETTLING_FRAME)\n",
    "decayed_perf = util.process_decay_to_midi_matrix(perf, SETTLING_FRAME)"
   ]
  },
  {
   "cell_type": "code",
   "execution_count": null,
   "metadata": {},
   "outputs": [],
   "source": [
    "score_unit_seq_list = midi.MIDIUnitSequenceList.from_midi_matrix(score, SETTLING_FRAME)\n",
    "perf_unit_seq_list = midi.MIDIUnitSequenceList.from_midi_matrix(perf, SETTLING_FRAME)\n",
    "score_sequence = score_unit_seq_list.to_representative_unit_sequence()\n",
    "perf_sequence = perf_unit_seq_list.to_representative_unit_sequence()"
   ]
  },
  {
   "cell_type": "code",
   "execution_count": null,
   "metadata": {},
   "outputs": [],
   "source": [
    "cost, (predicted_head, predicted_tail), (warping_path, accumulated_cost_matrix, delta_functions) = similarity.algorithm.subsequence_dtw(\n",
    "    score_sequence, perf_sequence\n",
    ")"
   ]
  },
  {
   "cell_type": "code",
   "execution_count": null,
   "metadata": {},
   "outputs": [],
   "source": [
    "original_subsequence_len = original_tail - original_head\n",
    "predicted_subsequence_len = predicted_tail - predicted_head\n",
    "\n",
    "length_accuracy = predicted_subsequence_len / original_subsequence_len\n",
    "print(f\"Length accuracy: {length_accuracy: .2f}\")"
   ]
  },
  {
   "cell_type": "code",
   "execution_count": null,
   "metadata": {},
   "outputs": [],
   "source": [
    "util.plot_midi_matrices(score, perf, (original_head, original_tail), (predicted_head, predicted_tail), \"Before decaying\")\n",
    "util.plot_midi_matrices(decayed_score, decayed_perf, (original_head, original_tail), (predicted_head, predicted_tail), \"After decayed\")"
   ]
  },
  {
   "cell_type": "code",
   "execution_count": null,
   "metadata": {},
   "outputs": [],
   "source": [
    "ylim = [0, score.shape[-1] -1]\n",
    "warping_path_ = np.array([(i, j) for (i, j) in warping_path])\n",
    "\n",
    "plt.figure(figsize=(16, 9))\n",
    "plt.title(f\"Accumulated Cost Matrix (expansion rate: {EXPANSION_RATE}, settling frame: {SETTLING_FRAME})\")\n",
    "plt.imshow(accumulated_cost_matrix, cmap=\"gray\", aspect=\"auto\", origin=\"lower\", interpolation=\"nearest\")\n",
    "plt.plot([original_head, original_head], ylim, \"b\", label=\"Original head\")\n",
    "plt.plot([original_tail, original_tail], ylim, \"y\", label=\"Original tail\")\n",
    "plt.plot([predicted_head, predicted_head], ylim, \"g\", label=\"Predicted head\")\n",
    "plt.plot([predicted_tail, predicted_tail], ylim, \"r\", label=\"Predicted tail\")\n",
    "plt.plot(warping_path_[:, 1], warping_path_[:, 0], 'w', label=\"Subsequence warping path\")\n",
    "plt.ylabel(\"Score\")\n",
    "plt.xlabel(\"Performance\")\n",
    "plt.ylim(ylim)\n",
    "plt.legend()\n",
    "plt.show()\n",
    "plt.clf()"
   ]
  },
  {
   "cell_type": "code",
   "execution_count": null,
   "metadata": {},
   "outputs": [],
   "source": [
    "plt.figure(figsize=(16, 9))\n",
    "plt.title(f\"Delta Functions (expansion rate: {EXPANSION_RATE}, settling frame: {SETTLING_FRAME})\")\n",
    "plt.plot(np.arange(len(delta_functions)),delta_functions)\n",
    "plt.plot(original_tail, delta_functions[original_tail], 'yo', label=\"Original tail\")\n",
    "plt.plot(predicted_tail, delta_functions[predicted_tail], 'ro', label=\"Predicted tail\")\n",
    "plt.legend()\n",
    "plt.show()\n",
    "plt.clf()"
   ]
  },
  {
   "cell_type": "code",
   "execution_count": null,
   "metadata": {},
   "outputs": [],
   "source": [
    "moving_averages = util.compute_moving_averages(delta_functions, width=len(delta_functions) // 20)\n",
    "reversed_averages = moving_averages[::-1]\n",
    "moving_average_tail = len(delta_functions) - np.argmin(reversed_averages) - 1\n",
    "\n",
    "plt.figure(figsize=(16, 9))\n",
    "plt.title(f\"Delta Functions (expansion rate: {EXPANSION_RATE}, settling frame: {SETTLING_FRAME})\")\n",
    "plt.plot(np.arange(len(delta_functions)),delta_functions)\n",
    "plt.plot(original_tail, delta_functions[original_tail], 'yo', label=\"Original tail\")\n",
    "plt.plot(predicted_tail, delta_functions[predicted_tail], 'ro', label=\"Predicted tail\")\n",
    "plt.plot(moving_average_tail, delta_functions[moving_average_tail], 'go', label=\"Moving average tail\")\n",
    "plt.legend()\n",
    "plt.show()\n",
    "plt.clf()\n",
    "\n",
    "plt.figure(figsize=(16, 9))\n",
    "plt.title(f\"Moving average (expansion rate: {EXPANSION_RATE}, settling frame: {SETTLING_FRAME})\")\n",
    "plt.plot(np.arange(len(moving_averages)), moving_averages)\n",
    "plt.plot(original_tail, moving_averages[original_tail], 'yo', label=\"Original tail\")\n",
    "plt.plot(predicted_tail, moving_averages[predicted_tail], 'ro', label=\"Predicted tail\")\n",
    "plt.plot(moving_average_tail, moving_averages[moving_average_tail], 'go', label=\"Moving average tail\")\n",
    "plt.legend()\n",
    "plt.show()\n",
    "plt.clf()"
   ]
  },
  {
   "cell_type": "code",
   "execution_count": null,
   "metadata": {},
   "outputs": [],
   "source": [
    "score_sequence = score_unit_seq_list.to_representative_unit_sequence()\n",
    "perf_sequence = perf_unit_seq_list[original_head: original_tail+1].to_representative_unit_sequence()\n",
    "\n",
    "cost = similarity.algorithm.dtw(\n",
    "    score_sequence, perf_sequence\n",
    ")\n",
    "\n",
    "print(cost)"
   ]
  },
  {
   "cell_type": "code",
   "execution_count": null,
   "metadata": {},
   "outputs": [],
   "source": [
    "util.plot_midi_matrices(score, perf[original_head:original_tail, :], (0, 0), title=\"Before decaying\")\n",
    "util.plot_midi_matrices(decayed_score, decayed_perf[original_head:original_tail], (0,0), title=\"After decayed\")"
   ]
  },
  {
   "cell_type": "code",
   "execution_count": 3,
   "metadata": {},
   "outputs": [],
   "source": [
    "gen = dataset_loader.spawn(dataset_root=DATASET_ROOT, \n",
    "                           slice_duration=SLICE_DURATION,\n",
    "                           expansion_rate=EXPANSION_RATE,\n",
    "                           frame_per_second=FRAME_PER_SECOND,\n",
    "                           shuffle=True)"
   ]
  },
  {
   "cell_type": "code",
   "execution_count": null,
   "metadata": {},
   "outputs": [],
   "source": [
    "tail_threshold = 5\n",
    "max_sample = 10\n",
    "sample_idx = 0\n",
    "for score, perf, (original_head, original_tail) in gen:\n",
    "\n",
    "    decayed_score = util.process_decay_to_midi_matrix(score, SETTLING_FRAME)\n",
    "    decayed_perf = util.process_decay_to_midi_matrix(perf, SETTLING_FRAME)\n",
    "    \n",
    "    score_unit_seq_list = midi.MIDIUnitSequenceList.from_midi_matrix(score,SETTLING_FRAME)\n",
    "    perf_unit_seq_list = midi.MIDIUnitSequenceList.from_midi_matrix(perf, SETTLING_FRAME)\n",
    "    \n",
    "    score_sequence = score_unit_seq_list.to_representative_unit_sequence()\n",
    "    perf_sequence = perf_unit_seq_list.to_representative_unit_sequence()\n",
    "\n",
    "    cost, (predicted_head, predicted_tail), (warping_path, accumulated_cost_matrix, delta_functions) = similarity.algorithm.subsequence_dtw(score_sequence, perf_sequence)\n",
    "\n",
    "    if abs(predicted_tail - original_tail) >= tail_threshold:\n",
    "        print(\"Length ratio:\",(predicted_tail-predicted_head)/(original_tail-original_head))\n",
    "        util.plot_midi_matrices(score, perf, (original_head, original_tail), (predicted_head, predicted_tail), \"Before decaying\")\n",
    "        util.plot_midi_matrices(decayed_score, decayed_perf, (original_head, original_tail), (predicted_head, predicted_tail), title=\"After decaying\")\n",
    "\n",
    "        ylim = [0, score.shape[-1] -1]\n",
    "        warping_path_ = np.array([(i, j) for (i, j) in warping_path])\n",
    "\n",
    "        moving_averages = util.compute_moving_averages(delta_functions, len(delta_functions) // 50)\n",
    "        moving_average_tail = len(delta_functions) - np.argmin(moving_averages[::-1]) - 1\n",
    "\n",
    "        plt.figure(figsize=(16, 9))\n",
    "        plt.title(f\"Accumulated Cost Matrix (expansion rate: {EXPANSION_RATE}, settling frame: {SETTLING_FRAME})\")\n",
    "        plt.imshow(accumulated_cost_matrix, cmap=\"gray\", aspect=\"auto\", origin=\"lower\", interpolation=\"nearest\")\n",
    "        plt.plot([original_head, original_head], ylim, \"b\", label=\"Original head\")\n",
    "        plt.plot([original_tail, original_tail], ylim, \"y\", label=\"Original tail\")\n",
    "        plt.plot([predicted_head, predicted_head], ylim, \"g\", label=\"Predicted head\")\n",
    "        plt.plot([predicted_tail, predicted_tail], ylim, \"r\", label=\"Predicted tail\")\n",
    "        plt.plot([moving_average_tail, moving_average_tail], ylim, 'm', label=\"Moving average tail\")\n",
    "        plt.plot(warping_path_[:, 1], warping_path_[:, 0], 'w', label=\"Subsequence warping path\")\n",
    "        plt.ylabel(\"Score\")\n",
    "        plt.xlabel(\"Performance\")\n",
    "        plt.ylim(ylim)\n",
    "        plt.legend()\n",
    "        plt.show()\n",
    "        plt.clf()\n",
    "\n",
    "        plt.figure(figsize=(16, 9))\n",
    "        plt.title(f\"Delta Functions (expansion rate: {EXPANSION_RATE}, settling frame: {SETTLING_FRAME})\")\n",
    "        plt.plot(np.arange(len(delta_functions)),delta_functions)\n",
    "        plt.plot(original_tail, delta_functions[original_tail], 'yo', label=\"Original tail\")\n",
    "        plt.plot(predicted_tail, delta_functions[predicted_tail], 'ro', label=\"Predicted tail\")\n",
    "        plt.plot(moving_average_tail, delta_functions[moving_average_tail], 'go', label=\"Moving average tail\")\n",
    "        plt.legend()\n",
    "        plt.show()\n",
    "        plt.clf()\n",
    "\n",
    "        plt.figure(figsize=(16, 9))\n",
    "        plt.title(f\"Moving average (expansion rate: {EXPANSION_RATE}, settling frame: {SETTLING_FRAME})\")\n",
    "        plt.plot(np.arange(len(moving_averages)), moving_averages)\n",
    "        plt.plot(original_tail, moving_averages[original_tail], 'yo', label=\"Original tail\")\n",
    "        plt.plot(predicted_tail, moving_averages[predicted_tail], 'ro', label=\"Predicted tail\")\n",
    "        plt.plot(moving_average_tail, moving_averages[moving_average_tail], 'go', label=\"Moving average tail\")\n",
    "        plt.legend()\n",
    "        plt.show()\n",
    "        plt.clf()\n",
    "\n",
    "        sample_idx += 1\n",
    "        if sample_idx == max_sample:\n",
    "            break\n"
   ]
  },
  {
   "cell_type": "code",
   "execution_count": 4,
   "metadata": {},
   "outputs": [],
   "source": [
    "gen = dataset_loader.spawn(dataset_root=DATASET_ROOT, \n",
    "                           slice_duration=SLICE_DURATION,\n",
    "                           expansion_rate=EXPANSION_RATE,\n",
    "                           frame_per_second=FRAME_PER_SECOND,\n",
    "                           shuffle=True)"
   ]
  },
  {
   "cell_type": "code",
   "execution_count": 5,
   "metadata": {},
   "outputs": [
    {
     "name": "stderr",
     "output_type": "stream",
     "text": [
      "100%|██████████| 1000/1000 [04:49<00:00,  3.45it/s]\n"
     ]
    }
   ],
   "source": [
    "global_dtw_costs = []\n",
    "subsequence_dtw_costs = []\n",
    "original_dtw_costs = []\n",
    "\n",
    "import tqdm\n",
    "for idx in tqdm.trange(1000):\n",
    "    score, perf, (original_head, original_tail) = next(gen)\n",
    "    decayed_score = util.process_decay_to_midi_matrix(score, SETTLING_FRAME)\n",
    "    decayed_perf = util.process_decay_to_midi_matrix(perf, SETTLING_FRAME)\n",
    "    score_unit_seq_list = midi.MIDIUnitSequenceList.from_midi_matrix(score,SETTLING_FRAME)\n",
    "    perf_unit_seq_list = midi.MIDIUnitSequenceList.from_midi_matrix(perf, SETTLING_FRAME)\n",
    "    score_sequence = score_unit_seq_list.to_representative_unit_sequence()\n",
    "    perf_sequence = perf_unit_seq_list.to_representative_unit_sequence()\n",
    "\n",
    "    global_dtw_cost = similarity.algorithm.dtw(score_sequence, perf_sequence)\n",
    "    subsequence_cost, (predicted_head, predicted_tail), (warping_path, accumulated_cost_matrix, delta_functions) = similarity.algorithm.subsequence_dtw(score_sequence, perf_sequence)\n",
    "\n",
    "    original_perf_sequence = perf_unit_seq_list[original_head: original_tail+1].to_representative_unit_sequence()\n",
    "    original_dtw_cost = similarity.algorithm.dtw(score_sequence, original_perf_sequence)\n",
    "\n",
    "    global_dtw_costs.append(global_dtw_cost)\n",
    "    subsequence_dtw_costs.append(subsequence_cost)\n",
    "    original_dtw_costs.append(original_dtw_cost)\n",
    "\n",
    "    # print(f\"Sample {idx} | Global DTW: {global_dtw_cost}, Subsequence DTW: {subsequence_cost}, Original DTW: {original_dtw_cost}\")\n"
   ]
  },
  {
   "cell_type": "code",
   "execution_count": 8,
   "metadata": {},
   "outputs": [
    {
     "data": {
      "text/plain": [
       "1000"
      ]
     },
     "execution_count": 8,
     "metadata": {},
     "output_type": "execute_result"
    }
   ],
   "source": [
    "len(global_dtw_costs)\n"
   ]
  },
  {
   "cell_type": "code",
   "execution_count": 10,
   "metadata": {},
   "outputs": [
    {
     "data": {
      "text/plain": [
       "<matplotlib.legend.Legend at 0x7f0acd679898>"
      ]
     },
     "execution_count": 10,
     "metadata": {},
     "output_type": "execute_result"
    },
    {
     "data": {
      "image/png": "[encoded data removed]",
      "text/plain": [
       "<Figure size 432x288 with 1 Axes>"
      ]
     },
     "metadata": {
      "needs_background": "light"
     },
     "output_type": "display_data"
    }
   ],
   "source": [
    "plt.suptitle(\"DTW Cost\")\n",
    "plt.title(f\"slice duration: {SLICE_DURATION}, expansion rate: {EXPANSION_RATE}, settling frame: {SETTLING_FRAME}\")\n",
    "plt.plot(range(len(global_dtw_costs)), global_dtw_costs, label=\"Global\")\n",
    "plt.plot(range(len(subsequence_dtw_costs)), subsequence_dtw_costs, label=\"Subsequence\")\n",
    "plt.plot(range(len(original_dtw_costs)), original_dtw_costs, label=\"Original\")\n",
    "plt.ylabel(\"Cost\")\n",
    "plt.xlabel(\"Sample index\")\n",
    "plt.legend()"
   ]
  },
  {
   "cell_type": "code",
   "execution_count": 11,
   "metadata": {},
   "outputs": [
    {
     "name": "stdout",
     "output_type": "stream",
     "text": [
      "2.70839557340192\n"
     ]
    }
   ],
   "source": [
    "subsequence_dtw_costs = np.array(subsequence_dtw_costs)\n",
    "original_dtw_costs = np.array(original_dtw_costs)\n",
    "diff = np.sqrt(np.sum((subsequence_dtw_costs - original_dtw_costs)**2))\n",
    "print(diff)"
   ]
  },
  {
   "cell_type": "code",
   "execution_count": 12,
   "metadata": {},
   "outputs": [],
   "source": [
    "err = diff / len(original_dtw_costs)\n",
    "print(err)"
   ]
  }
 ],
 "metadata": {
  "interpreter": {
   "hash": "6b941a73e39ad5b6d75c9de32d8349d9c37685575ffd58a15534490e6472e926"
  },
  "kernelspec": {
   "display_name": "Python 3.6.13 64-bit ('tensorflow23_py36': conda)",
   "language": "python",
   "name": "python3"
  },
  "language_info": {
   "codemirror_mode": {
    "name": "ipython",
    "version": 3
   },
   "file_extension": ".py",
   "mimetype": "text/x-python",
   "name": "python",
   "nbconvert_exporter": "python",
   "pygments_lexer": "ipython3",
   "version": "3.6.13"
  },
  "orig_nbformat": 4
 },
 "nbformat": 4,
 "nbformat_minor": 2
}
